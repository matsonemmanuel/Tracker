{
 "cells": [
  {
   "cell_type": "code",
   "execution_count": 3,
   "metadata": {},
   "outputs": [],
   "source": [
    "import csv\n",
    "from datetime import datetime\n",
    "\n",
    "EXPENSES_FILE = 'expenses.csv'\n"
   ]
  },
  {
   "cell_type": "code",
   "execution_count": 4,
   "metadata": {},
   "outputs": [],
   "source": [
    "# Function to add an expense\n",
    "def add_expense(date, category, description, amount):\n",
    "    with open(EXPENSES_FILE, mode='a', newline='') as file:\n",
    "        writer = csv.writer(file)\n",
    "        writer.writerow([date, category, description, amount])\n",
    "    print(\"Expense added successfully!\")"
   ]
  },
  {
   "cell_type": "code",
   "execution_count": 5,
   "metadata": {},
   "outputs": [],
   "source": [
    "# Function to view all expenses\n",
    "def view_expenses():\n",
    "    try:\n",
    "        with open(EXPENSES_FILE, mode='r') as file:\n",
    "            reader = csv.reader(file)\n",
    "            print(\"\\nDate        | Category     | Description       | Amount\")\n",
    "            print(\"-\" * 50)\n",
    "            for row in reader:\n",
    "                print(f\"{row[0]} | {row[1]} | {row[2]} | ${row[3]}\")\n",
    "    except FileNotFoundError:\n",
    "        print(\"No expenses found.\")"
   ]
  },
  {
   "cell_type": "code",
   "execution_count": 6,
   "metadata": {},
   "outputs": [],
   "source": [
    "# Function to get total expenses\n",
    "def total_expenses():\n",
    "    total = 0.0\n",
    "    try:\n",
    "        with open(EXPENSES_FILE, mode='r') as file:\n",
    "            reader = csv.reader(file)\n",
    "            for row in reader:\n",
    "                total += float(row[3])\n",
    "        print(f\"\\nTotal Expenses: ${total:.2f}\")\n",
    "    except FileNotFoundError:\n",
    "        print(\"No expenses found.\")\n"
   ]
  },
  {
   "cell_type": "code",
   "execution_count": 7,
   "metadata": {},
   "outputs": [
    {
     "name": "stdout",
     "output_type": "stream",
     "text": [
      "\n",
      "Expense Tracker\n",
      "1. Add Expense\n",
      "2. View Expenses\n",
      "3. Total Expenses\n",
      "4. Exit\n",
      "Expense added successfully!\n",
      "\n",
      "Expense Tracker\n",
      "1. Add Expense\n",
      "2. View Expenses\n",
      "3. Total Expenses\n",
      "4. Exit\n",
      "\n",
      "Date        | Category     | Description       | Amount\n",
      "--------------------------------------------------\n",
      "2025-03-10 | Meal | Family food | $345\n",
      "2025-03-10 | Power | Electricity bill | $465\n",
      "2025-03-10 | Meal | Family food | $465\n",
      "2025-03-19 | Water | Family water | $234\n",
      "\n",
      "Expense Tracker\n",
      "1. Add Expense\n",
      "2. View Expenses\n",
      "3. Total Expenses\n",
      "4. Exit\n",
      "Goodbye!\n"
     ]
    }
   ],
   "source": [
    "# Main menu\n",
    "def main():\n",
    "    while True:\n",
    "        print(\"\\nExpense Tracker\")\n",
    "        print(\"1. Add Expense\")\n",
    "        print(\"2. View Expenses\")\n",
    "        print(\"3. Total Expenses\")\n",
    "        print(\"4. Exit\")\n",
    "\n",
    "        choice = input(\"Choose an option: \")\n",
    "\n",
    "        if choice == '1':\n",
    "            date = datetime.now().strftime('%Y-%m-%d')\n",
    "            category = input(\"Enter category: \")\n",
    "            description = input(\"Enter description: \")\n",
    "            amount = input(\"Enter amount: \")\n",
    "            add_expense(date, category, description, amount)\n",
    "        elif choice == '2':\n",
    "            view_expenses()\n",
    "        elif choice == '3':\n",
    "            total_expenses()\n",
    "        elif choice == '4':\n",
    "            print(\"Goodbye!\")\n",
    "            break\n",
    "        else:\n",
    "            print(\"Invalid choice. Please try again.\")\n",
    "\n",
    "if __name__ == \"__main__\":\n",
    "    main()\n"
   ]
  }
 ],
 "metadata": {
  "kernelspec": {
   "display_name": "Python 3",
   "language": "python",
   "name": "python3"
  },
  "language_info": {
   "codemirror_mode": {
    "name": "ipython",
    "version": 3
   },
   "file_extension": ".py",
   "mimetype": "text/x-python",
   "name": "python",
   "nbconvert_exporter": "python",
   "pygments_lexer": "ipython3",
   "version": "3.13.2"
  }
 },
 "nbformat": 4,
 "nbformat_minor": 2
}
