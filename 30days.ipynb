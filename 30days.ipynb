{
 "cells": [
  {
   "cell_type": "code",
   "execution_count": 1,
   "metadata": {},
   "outputs": [
    {
     "name": "stdout",
     "output_type": "stream",
     "text": [
      "7\n",
      "1\n",
      "12\n",
      "1.3333333333333333\n",
      "1\n",
      "64\n",
      "1\n"
     ]
    }
   ],
   "source": [
    "# 30 days of python\n",
    "# Day 1\n",
    "# Exercise 1\n",
    "a=4\n",
    "b=3\n",
    "print(a+b) #addition\n",
    "print(a-b) #subtraction\n",
    "print(a*b) #multiplication\n",
    "print(a/b) #division\n",
    "print(a%b) #modulus,remainder\n",
    "print(a**b) #exponent\n",
    "print(a//b) #floor division, quotient"
   ]
  },
  {
   "cell_type": "code",
   "execution_count": 2,
   "metadata": {},
   "outputs": [
    {
     "name": "stdout",
     "output_type": "stream",
     "text": [
      "John Doe\n",
      "USA\n",
      "New York\n",
      "25\n",
      "I am enjoying 30 days of python\n"
     ]
    }
   ],
   "source": [
    "# string writing\n",
    "name=\"John\"\n",
    "family_name=\"Doe\"\n",
    "full_name=name+\" \"+family_name\n",
    "country=\"USA\"\n",
    "city=\"New York\"\n",
    "age=25\n",
    "what_you_enjoy=\"I am enjoying 30 days of python\"\n",
    "print(full_name)\n",
    "print(country)\n",
    "print(city)\n",
    "print(age)\n",
    "print(what_you_enjoy)"
   ]
  },
  {
   "cell_type": "code",
   "execution_count": 3,
   "metadata": {},
   "outputs": [
    {
     "name": "stdout",
     "output_type": "stream",
     "text": [
      "<class 'int'>\n",
      "<class 'float'>\n",
      "<class 'complex'>\n",
      "<class 'str'>\n",
      "<class 'str'>\n",
      "<class 'str'>\n",
      "<class 'int'>\n",
      "<class 'str'>\n"
     ]
    }
   ],
   "source": [
    "# checking data types\n",
    "a=10\n",
    "b=3.14\n",
    "c=4-4j\n",
    "print(type(a))\n",
    "print(type(b))\n",
    "print(type(c))\n",
    "print(type(name))\n",
    "print(type(country))\n",
    "print(type(city))\n",
    "print(type(age))\n",
    "print(type(what_you_enjoy))\n"
   ]
  },
  {
   "cell_type": "code",
   "execution_count": 4,
   "metadata": {},
   "outputs": [
    {
     "name": "stdout",
     "output_type": "stream",
     "text": [
      "Euclidean distance: 9.433981132056603\n"
     ]
    }
   ],
   "source": [
    "# Different Python data types\n",
    "\n",
    "# Number types\n",
    "integer_num = 42               # Integer\n",
    "float_num = 3.14               # Float\n",
    "complex_num = 2 + 3j           # Complex\n",
    "\n",
    "# String\n",
    "greeting = \"Hello, Python!\"\n",
    "\n",
    "# Boolean\n",
    "is_active = True\n",
    "\n",
    "# List (ordered, mutable, allows duplicates)\n",
    "fruits = [\"apple\", \"banana\", \"cherry\"]\n",
    "\n",
    "# Tuple (ordered, immutable, allows duplicates)\n",
    "coordinates = (10, 20)\n",
    "\n",
    "# Set (unordered, mutable, no duplicates)\n",
    "unique_numbers = {1, 2, 3, 4, 4}\n",
    "\n",
    "# Dictionary (key-value pairs, no duplicate keys)\n",
    "student = {\n",
    "    \"name\": \"Alice\",\n",
    "    \"age\": 25,\n",
    "    \"grade\": \"A\"\n",
    "}\n",
    "\n",
    "# Calculate Euclidean distance between (2, 3) and (10, 8)\n",
    "import math\n",
    "point1 = (2, 3)\n",
    "point2 = (10, 8)\n",
    "\n",
    "distance = math.sqrt((point2[0] - point1[0]) ** 2 + (point2[1] - point1[1]) ** 2)\n",
    "\n",
    "print(f\"Euclidean distance: {distance}\")\n"
   ]
  },
  {
   "cell_type": "code",
   "execution_count": 5,
   "metadata": {},
   "outputs": [
    {
     "name": "stdout",
     "output_type": "stream",
     "text": [
      "John Doe\n",
      "2\n",
      "2\n",
      "2\n"
     ]
    }
   ],
   "source": [
    "# day 2\n",
    "# Built in functions.\n",
    "# Exercies 1\n",
    "first_name = \"John\"\n",
    "last_name = \"Doe\"\n",
    "full_name = first_name + \" \" + last_name\n",
    "print(full_name)\n",
    "country = \"USA\"\n",
    "city = \"New York\"\n",
    "age = 25\n",
    "year = 2021\n",
    "is_married = False\n",
    "is_true = True\n",
    "is_light_on = True\n",
    "a=b=c=2\n",
    "print(a)\n",
    "print(b)\n",
    "print(c)\n"
   ]
  },
  {
   "cell_type": "code",
   "execution_count": 6,
   "metadata": {},
   "outputs": [
    {
     "name": "stdout",
     "output_type": "stream",
     "text": [
      "9.674999999999999\n",
      "4.24.35.4\n"
     ]
    }
   ],
   "source": [
    "# Day 3\n",
    "# Exercise 1\n",
    "age = 20\n",
    "height = 67.5\n",
    "y = 2+4j\n",
    "base = float(input('Enter the base of triangle: '))\n",
    "height = float(input('Enter the height of trinagle: '))\n",
    "area_of_triangle = 0.5*base*height\n",
    "print(area_of_triangle)\n",
    "\n",
    "\n",
    "# Calculating the perimeter of the triangle.\n",
    "a=input('Enter the side a of triangle: ')\n",
    "b=input('Enter the side b of the triangle: ')\n",
    "c= input('Enter the side c of the triangle: ')\n",
    "perimeter=a+b+c\n",
    "print(perimeter)\n",
    "\n"
   ]
  },
  {
   "cell_type": "code",
   "execution_count": 7,
   "metadata": {},
   "outputs": [
    {
     "name": "stdout",
     "output_type": "stream",
     "text": [
      "14.080000000000002\n",
      "15.200000000000001\n"
     ]
    }
   ],
   "source": [
    "#Calculating the area of rectangle.\n",
    "length = float(input('Enter the length of rectangle: '))\n",
    "width = float(input('Enter the width of rectangle: '))\n",
    "area_of_rectangle = length * width\n",
    "print(area_of_rectangle)\n",
    "perimeter=2*(length+width)\n",
    "print(perimeter)"
   ]
  },
  {
   "cell_type": "code",
   "execution_count": 8,
   "metadata": {},
   "outputs": [
    {
     "name": "stdout",
     "output_type": "stream",
     "text": [
      "<class 'str'>\n",
      "<class 'str'>\n",
      "<class 'str'>\n",
      "<class 'str'>\n",
      "<class 'str'>\n",
      "<class 'int'>\n",
      "<class 'int'>\n",
      "<class 'bool'>\n",
      "<class 'bool'>\n",
      "<class 'bool'>\n",
      "<class 'str'>\n",
      "<class 'str'>\n",
      "<class 'str'>\n",
      "4\n",
      "3\n",
      "8\n",
      "True\n",
      "False\n",
      "False\n",
      "True\n"
     ]
    }
   ],
   "source": [
    "# Exerice 2\n",
    "# Data types\n",
    "print(type(first_name))\n",
    "print(type(last_name))\n",
    "print(type(full_name))\n",
    "print(type(country))\n",
    "print(type(city))\n",
    "print(type(age))\n",
    "print(type(year))\n",
    "print(type(is_married))\n",
    "print(type(is_true))\n",
    "print(type(is_light_on))\n",
    "print(type(a))\n",
    "print(type(b))\n",
    "print(type(c))\n",
    "\n",
    "#Lenght of the string\n",
    "print(len(first_name))\n",
    "print(len(last_name))\n",
    "print(len(full_name))\n",
    "#Comparing the length of the string\n",
    "print(len(first_name) > len(last_name))\n",
    "print(len(first_name) < len(last_name))\n",
    "print(len(first_name) == len(last_name))\n",
    "print(len(first_name) >= len(last_name))\n"
   ]
  },
  {
   "cell_type": "code",
   "execution_count": 9,
   "metadata": {},
   "outputs": [
    {
     "name": "stdout",
     "output_type": "stream",
     "text": [
      "9\n",
      "1\n",
      "20\n",
      "1.25\n",
      "1\n",
      "625\n",
      "1\n"
     ]
    }
   ],
   "source": [
    "#Numbers.\n",
    "num1 = 5\n",
    "num2 = 4\n",
    "total = num1 + num2\n",
    "diff = num1 - num2\n",
    "product = num1 * num2\n",
    "division = num1 / num2\n",
    "remainder = num1 % num2\n",
    "exp = num1 ** num2\n",
    "floor_division = num1 // num2\n",
    "print(total)\n",
    "print(diff)\n",
    "print(product)\n",
    "print(division)\n",
    "print(remainder)\n",
    "print(exp)\n",
    "print(floor_division)"
   ]
  },
  {
   "cell_type": "code",
   "execution_count": 10,
   "metadata": {},
   "outputs": [
    {
     "name": "stdout",
     "output_type": "stream",
     "text": [
      "I hope everyone is enjoying the python challenge.\n",
      "Are you ?\n",
      "Days\tTopics\tExercises\n",
      "Day 1\t5\t5\n",
      "Day 2\t6\t20\n",
      "Day 3\t5\t23\n",
      "Day 4\t1\t35\n",
      "This is a backslash symbol (\\)\n"
     ]
    }
   ],
   "source": [
    "# Day 4\n",
    "# Strings.\n",
    "print(\"I hope everyone is enjoying the python challenge.\\nAre you ?\")\n",
    "print('Days\\tTopics\\tExercises')\n",
    "print('Day 1\\t5\\t5')\n",
    "print('Day 2\\t6\\t20')\n",
    "print('Day 3\\t5\\t23')\n",
    "print('Day 4\\t1\\t35')\n",
    "print('This is a backslash symbol (\\\\)')"
   ]
  },
  {
   "cell_type": "code",
   "execution_count": 11,
   "metadata": {},
   "outputs": [
    {
     "name": "stdout",
     "output_type": "stream",
     "text": [
      "I am Emma Deo. I teach python\n"
     ]
    }
   ],
   "source": [
    "# Formating the string.\n",
    "first_name = \"Emma\"\n",
    "last_name = \"Deo\"\n",
    "language = \"python\"\n",
    "formated_string = \"I am %s %s. I teach %s\" %(first_name, last_name, language)\n",
    "print(formated_string)"
   ]
  },
  {
   "cell_type": "code",
   "execution_count": 12,
   "metadata": {},
   "outputs": [
    {
     "name": "stdout",
     "output_type": "stream",
     "text": [
      "The area of circle with a radius 10 is 314.00.\n"
     ]
    }
   ],
   "source": [
    "#String and numbers.\n",
    "radius = 10\n",
    "pi = 3.14\n",
    "area = pi * radius ** 2\n",
    "formated_string = \"The area of circle with a radius %d is %.2f.\" %(radius, area)\n",
    "print(formated_string)"
   ]
  },
  {
   "cell_type": "code",
   "execution_count": 13,
   "metadata": {},
   "outputs": [
    {
     "name": "stdout",
     "output_type": "stream",
     "text": [
      "['Thirty', 'days', 'of', 'python']\n",
      "['Thirty days of python']\n"
     ]
    }
   ],
   "source": [
    "# Exercise\n",
    "challenge = \"Thirty days of python\"\n",
    "print(challenge.split())\n",
    "#or\n",
    "challeng = 'Thirty, days, of, python'\n",
    "print(challenge.split(', '))"
   ]
  },
  {
   "cell_type": "code",
   "execution_count": 14,
   "metadata": {},
   "outputs": [
    {
     "name": "stdout",
     "output_type": "stream",
     "text": [
      "Thirty days of py\n"
     ]
    }
   ],
   "source": [
    "# using strip.\n",
    "challenge = 'Thirty days of python'\n",
    "print(challenge.strip(\"thon\"))"
   ]
  },
  {
   "cell_type": "code",
   "execution_count": 15,
   "metadata": {},
   "outputs": [
    {
     "name": "stdout",
     "output_type": "stream",
     "text": [
      "cODING fOR aLL\n"
     ]
    }
   ],
   "source": [
    "# swapping.\n",
    "challenge = 'Coding For All'\n",
    "print(challenge.swapcase())"
   ]
  },
  {
   "cell_type": "code",
   "execution_count": 16,
   "metadata": {},
   "outputs": [
    {
     "name": "stdout",
     "output_type": "stream",
     "text": [
      "Thirty Days Of Python\n"
     ]
    }
   ],
   "source": [
    "# Giving it title.\n",
    "challenge = 'thirty days of python'\n",
    "print(challenge.title())"
   ]
  },
  {
   "cell_type": "code",
   "execution_count": 17,
   "metadata": {},
   "outputs": [
    {
     "name": "stdout",
     "output_type": "stream",
     "text": [
      "Name\tAge\tCountry\tCity\n",
      "Emmanuel\t20\tUganda\tKampala\n"
     ]
    }
   ],
   "source": [
    "# Use of table escape.\n",
    "print('Name\\tAge\\tCountry\\tCity')\n",
    "print('Emmanuel\\t20\\tUganda\\tKampala')"
   ]
  },
  {
   "cell_type": "code",
   "execution_count": 18,
   "metadata": {},
   "outputs": [
    {
     "name": "stdout",
     "output_type": "stream",
     "text": [
      "I am enjoying this challenge\n",
      "\n",
      "I just wonder what is next\n"
     ]
    }
   ],
   "source": [
    "# Line escaping\n",
    "print('I am enjoying this challenge')\n",
    "print()\n",
    "print('I just wonder what is next')"
   ]
  },
  {
   "cell_type": "code",
   "execution_count": 19,
   "metadata": {},
   "outputs": [
    {
     "name": "stdout",
     "output_type": "stream",
     "text": [
      "HTML CSS JavaScript React\n"
     ]
    }
   ],
   "source": [
    "# Use of join\n",
    "web_tech = ['HTML', 'CSS', 'JavaScript', 'React']\n",
    "result = ' '.join(web_tech)\n",
    "print(result)"
   ]
  },
  {
   "cell_type": "code",
   "execution_count": 20,
   "metadata": {},
   "outputs": [
    {
     "name": "stdout",
     "output_type": "stream",
     "text": [
      "Fruits: ['apple', 'banana', 'cherry']\n",
      "Number of fruits: 3\n",
      "Vegetables: ['carrot', 'broccoli', 'spinach']\n",
      "Number of vegetables: 3\n",
      "Animal products: ['milk', 'cheese', 'yogurt']\n",
      "Number of animal products: 3\n",
      "Web technologies: ['HTML', 'CSS', 'JavaScript', 'React']\n",
      "Number of web technologies: 4\n",
      "Countries: ['USA', 'Canada', 'Germany']\n",
      "Number of countries: 3\n"
     ]
    }
   ],
   "source": [
    "# Day 5\n",
    "# List.\n",
    "vegetables = ['carrot', 'broccoli', 'spinach']  # Define the vegetables list\n",
    "animal_products = ['milk', 'cheese', 'yogurt']  # Define the animal products list\n",
    "web_techs = ['HTML', 'CSS', 'JavaScript', 'React']  # Define the web technologies list\n",
    "countries = ['USA', 'Canada', 'Germany']  # Define the countries list\n",
    "fruits = ['apple', 'banana', 'cherry']  # Define the fruits list\n",
    "\n",
    "print('Fruits:', fruits)\n",
    "print('Number of fruits:', len(fruits))\n",
    "print('Vegetables:', vegetables)\n",
    "print('Number of vegetables:', len(vegetables))\n",
    "print('Animal products:', animal_products)\n",
    "print('Number of animal products:', len(animal_products))\n",
    "print('Web technologies:', web_techs)\n",
    "print('Number of web technologies:', len(web_techs))\n",
    "print('Countries:', countries)\n",
    "print('Number of countries:', len(countries))"
   ]
  },
  {
   "cell_type": "code",
   "execution_count": 21,
   "metadata": {},
   "outputs": [
    {
     "name": "stdout",
     "output_type": "stream",
     "text": [
      "item1\n",
      "item2\n",
      "item3\n",
      "['item4', 'item5']\n"
     ]
    }
   ],
   "source": [
    "# Unpacking the list items.\n",
    "lst = ['item1','item2','item3', 'item4', 'item5']\n",
    "first_item, second_item, third_item, *rest = lst\n",
    "print(first_item)     # item1\n",
    "print(second_item)    # item2\n",
    "print(third_item)     # item3\n",
    "print(rest)     "
   ]
  },
  {
   "cell_type": "code",
   "execution_count": 24,
   "metadata": {},
   "outputs": [
    {
     "name": "stdout",
     "output_type": "stream",
     "text": [
      "True\n",
      "False\n",
      "['mango', 'apple', 'grape', 'lime']\n"
     ]
    }
   ],
   "source": [
    "# checking the item in the list.\n",
    "fruits = ['banana', 'apple', 'mango', 'grape']\n",
    "does_exist = 'banana' in fruits\n",
    "print(does_exist)\n",
    "does_exist = 'lime' in fruits\n",
    "print(does_exist)\n",
    "\n",
    "# Adding items to the list.\n",
    "fruits = ['mango', 'apple', 'grape']\n",
    "fruits.append('lime')\n",
    "print(fruits)"
   ]
  },
  {
   "cell_type": "code",
   "execution_count": 30,
   "metadata": {},
   "outputs": [
    {
     "name": "stdout",
     "output_type": "stream",
     "text": [
      "2\n",
      "[23, 34, 45, 56, 56, 67]\n",
      "[70, 23, 34, 45, 56, 56, 67]\n"
     ]
    }
   ],
   "source": [
    "# counting items in the list.\n",
    "my_list = [23,34,45,56,56,67]\n",
    "my_list.count(56)\n",
    "print(my_list.count(56))\n",
    "print(my_list.copy())\n",
    "my_list.insert(0,70)\n",
    "print(my_list)"
   ]
  },
  {
   "cell_type": "code",
   "execution_count": 39,
   "metadata": {},
   "outputs": [
    {
     "name": "stdout",
     "output_type": "stream",
     "text": [
      "[]\n",
      "['John', 'Job', 'Kato', 'Jude', 'James']\n",
      "5\n",
      "John\n",
      "Kato\n",
      "James\n"
     ]
    }
   ],
   "source": [
    "# Exercise.\n",
    "my_list=[]\n",
    "print(my_list)\n",
    "\n",
    "list=['John', 'Job', 'Kato', 'Jude', 'James']\n",
    "print(list)\n",
    "print(len(list))\n",
    "print(list[0])\n",
    "middle_index=len(list)//2\n",
    "middle_name=list[middle_index]\n",
    "print(middle_name)\n",
    "print(list[-1])"
   ]
  },
  {
   "cell_type": "markdown",
   "metadata": {},
   "source": [
    "# Day 6.\n",
    "# Tuple."
   ]
  },
  {
   "cell_type": "code",
   "execution_count": 2,
   "metadata": {},
   "outputs": [
    {
     "name": "stdout",
     "output_type": "stream",
     "text": [
      "('apple', 'mango', 'grape')\n",
      "('apple', 'mango', 'grape', 'grape')\n"
     ]
    }
   ],
   "source": [
    "# changing tuple to list.\n",
    "fruits=('banana','mango','grape')\n",
    "fruits=list(fruits)\n",
    "fruits[0]='apple'\n",
    "fruits=tuple(fruits)\n",
    "print(fruits)\n",
    "fruits=list(fruits)\n",
    "fruits.append('grape')\n",
    "fruits=tuple(fruits)\n",
    "print(fruits)"
   ]
  },
  {
   "cell_type": "code",
   "execution_count": null,
   "metadata": {},
   "outputs": [
    {
     "name": "stdout",
     "output_type": "stream",
     "text": [
      "()\n",
      "1\n",
      "4\n",
      "('Safari', 'Solomon', 'Samuel', 'Mark')\n",
      "4\n",
      "('Esther', 'Mave', 'jane', 'Sarah', 'Safari', 'Solomon', 'Samuel', 'Mark')\n",
      "8\n",
      "('Esther', 'Mave', 'jane', 'Sarah', 'Safari', 'Solomon', 'Samuel', 'Mark', 'Jeante', 'Nyangoma')\n",
      "siblings: ('Esther', 'Mave', 'jane', 'Sarah', 'Safari', 'Solomon', 'Samuel', 'Mark')\n",
      "Father: Jeante\n",
      "Mother: Nyangoma\n",
      "('mango', 'grape', 'apple', 'cabbage', 'sukumawiki', 'Dodo', 'milk', 'skin', 'butter')\n",
      "['mango', 'grape', 'apple', 'cabbage', 'sukumawiki', 'Dodo', 'milk', 'skin', 'butter']\n",
      "Middle item(s) from list: sukumawiki\n",
      "Middle item(s) from tuple: sukumawiki\n",
      "['mango', 'grape', 'apple']\n",
      "['milk', 'skin', 'butter']\n"
     ]
    }
   ],
   "source": [
    "# Exercise 1\n",
    "empty_tuple=()\n",
    "print(empty_tuple)\n",
    "\n",
    "sisters=('Esther','Mave','jane','Sarah')\n",
    "print(sisters.count('Esther'))\n",
    "print(len(sisters))\n",
    "\n",
    "\n",
    "brothers=('Safari','Solomon','Samuel','Mark')\n",
    "print(brothers)\n",
    "print(len(brothers))\n",
    "\n",
    "siblings = sisters + brothers  # Joining brothers and sisters.\n",
    "print(siblings)\n",
    "print(len(siblings))  # counting the siblings.\n",
    "\n",
    "family_members=siblings+('Jeante','Nyangoma')\n",
    "print(family_members)\n",
    "\n",
    "\n",
    "# Unpacking family members.\n",
    "siblings = family_members[:-2]\n",
    "father, mother = family_members[-2:]\n",
    "\n",
    "print('siblings:',siblings)\n",
    "print('Father:',father)\n",
    "print('Mother:',mother)\n",
    "\n",
    "fruits=('mango','grape','apple')\n",
    "vegetables=('cabbage','sukumawiki','Dodo')\n",
    "animal_products=('milk','skin','butter')\n",
    "food_stuff_tp=fruits+vegetables+animal_products   #Joining the three tuples together.\n",
    "print(food_stuff_tp)\n",
    "\n",
    "food_stuff_lt=list(food_stuff_tp)  # changing the food stuff tuple to food stuff list.\n",
    "print(food_stuff_lt)\n",
    "\n",
    "# Finding the middle item(s)\n",
    "list_length = len(food_stuff_lt)\n",
    "tuple_length = len(food_stuff_tp)\n",
    "\n",
    "# If the length is odd, get one middle item\n",
    "if list_length % 2 != 0:\n",
    "    middle_item_lt = food_stuff_lt[list_length // 2]\n",
    "    middle_item_tp = food_stuff_tp[tuple_length // 2]\n",
    "else:  # If the length is even, get two middle items\n",
    "    middle_item_lt = food_stuff_lt[list_length // 2 - 1:list_length // 2 + 1]\n",
    "    middle_item_tp = food_stuff_tp[tuple_length // 2 - 1:tuple_length // 2 + 1]\n",
    "\n",
    "print(\"Middle item(s) from list:\", middle_item_lt)\n",
    "print(\"Middle item(s) from tuple:\", middle_item_tp)\n",
    "\n",
    "first_three=food_stuff_lt[:3]\n",
    "print(first_three)\n",
    "last_three=food_stuff_lt[-3:]\n",
    "print(last_three)\n",
    "\n",
    "del food_stuff_tp\n",
    "print(food_stuff_tp)  # This will raise an error, since there is nothing to access."
   ]
  },
  {
   "cell_type": "markdown",
   "metadata": {},
   "source": [
    "# Day7\n",
    "Sets."
   ]
  },
  {
   "cell_type": "code",
   "execution_count": 3,
   "metadata": {},
   "outputs": [
    {
     "name": "stdout",
     "output_type": "stream",
     "text": [
      "Does set st conatains lemon? True\n",
      "True\n"
     ]
    }
   ],
   "source": [
    "# Checking elements in the sets.\n",
    "st={'banana','apple','lemon'}\n",
    "print('Does set st conatains lemon?','lemon' in st)\n",
    "\n",
    "print('apple' in st)\n"
   ]
  },
  {
   "cell_type": "code",
   "execution_count": 4,
   "metadata": {},
   "outputs": [
    {
     "name": "stdout",
     "output_type": "stream",
     "text": [
      "{'onion', 'carrot', 'potato', 'cabbage', 'banana', 'mango', 'orange', 'lemon', 'tomato'}\n"
     ]
    }
   ],
   "source": [
    "fruits = {'banana', 'orange', 'mango', 'lemon'}\n",
    "vegetables = ('tomato', 'potato', 'cabbage','onion', 'carrot')\n",
    "fruits.update(vegetables)\n",
    "print(fruits)"
   ]
  },
  {
   "cell_type": "code",
   "execution_count": null,
   "metadata": {},
   "outputs": [
    {
     "data": {
      "text/plain": [
       "False"
      ]
     },
     "execution_count": 6,
     "metadata": {},
     "output_type": "execute_result"
    }
   ],
   "source": [
    "# Common terms in set.\n",
    "# Union, Intersection, update, checking items in the sets,\n",
    "# subset, super set\n",
    "\n",
    "python={'p','y','t','h','o','n'}\n",
    "dragon={'d','r','a','g','n'}\n",
    "python.issubset(dragon)\n",
    "python.issuperset(dragon)"
   ]
  },
  {
   "cell_type": "code",
   "execution_count": null,
   "metadata": {},
   "outputs": [
    {
     "name": "stdout",
     "output_type": "stream",
     "text": [
      "7\n",
      "{'Oracle', 'Apple', 'facebook', 'Google', 'IBM', 'Amazon', 'Twitter', 'Micrososft'}\n",
      "{'Oracle', 'facebook', 'Cisco', 'Twitter', 'Micrososft', 'OpenAI', 'Apple', 'Google', 'IBM', 'Amazon', 'Adobe'}\n",
      "{'Oracle', 'facebook', 'Cisco', 'Twitter', 'Micrososft', 'Apple', 'Google', 'IBM', 'Amazon', 'Adobe'}\n"
     ]
    }
   ],
   "source": [
    "# Execise 7\n",
    "it_companies={'facebook','Google','Micrososft','Apple','IBM','Oracle','Amazon'}\n",
    "A={19,22,24,20,25,26}\n",
    "B={19,22,20,25,26,24,28,27}\n",
    "age={22,19,24,25,26,24,25,24}\n",
    "\n",
    "print(len(it_companies))    # Finding the length of it companies.\n",
    "it_companies.add('Twitter')  # Adding items to the set.\n",
    "print(it_companies)\n",
    "\n",
    "companies_for_IT={'OpenAI','Adobe','Cisco'}\n",
    "it_companies.update(companies_for_IT)  # Insertin companies once to the set it companies.\n",
    "print(it_companies)\n",
    "\n",
    "it_companies.remove('OpenAI')  # Removing one company from the set.\n",
    "print(it_companies)\n",
    "\n"
   ]
  },
  {
   "cell_type": "code",
   "execution_count": null,
   "metadata": {},
   "outputs": [
    {
     "name": "stdout",
     "output_type": "stream",
     "text": [
      "{19, 20, 22, 24, 25, 26, 27, 28}\n",
      "{19, 20, 22, 24, 25, 26}\n",
      "True\n",
      "False\n",
      "{19, 20, 22, 24, 25, 26, 27, 28}\n",
      "{19, 20, 22, 24, 25, 26, 27, 28}\n",
      "{27, 28}\n"
     ]
    },
    {
     "ename": "NameError",
     "evalue": "name 'A' is not defined",
     "output_type": "error",
     "traceback": [
      "\u001b[31m---------------------------------------------------------------------------\u001b[39m",
      "\u001b[31mNameError\u001b[39m                                 Traceback (most recent call last)",
      "\u001b[36mCell\u001b[39m\u001b[36m \u001b[39m\u001b[32mIn[21]\u001b[39m\u001b[32m, line 13\u001b[39m\n\u001b[32m     11\u001b[39m \u001b[38;5;28mprint\u001b[39m(A.symmetric_difference(B))\n\u001b[32m     12\u001b[39m \u001b[38;5;28;01mdel\u001b[39;00m A\n\u001b[32m---> \u001b[39m\u001b[32m13\u001b[39m \u001b[38;5;28mprint\u001b[39m(\u001b[43mA\u001b[49m)\n",
      "\u001b[31mNameError\u001b[39m: name 'A' is not defined"
     ]
    }
   ],
   "source": [
    "A={19,22,24,20,25,26}\n",
    "B={19,22,20,25,26,24,28,27}\n",
    "age=[22,19,24,25,26,24,25,24]\n",
    "\n",
    "print(A.union(B))   # This gives union set of the two.\n",
    "print(A.intersection(B))  # This gives the intersecrtion set of the two.\n",
    "print(A.issubset(B))  # Analysing the subset of the two.\n",
    "print(A.isdisjoint(B)) \n",
    "print(A.union(B))\n",
    "print(B.union(A))\n",
    "print(A.symmetric_difference(B))\n",
    "del A\n",
    "print(A) # This gives error, because there is nothing in the set A."
   ]
  },
  {
   "cell_type": "markdown",
   "metadata": {},
   "source": []
  },
  {
   "cell_type": "code",
   "execution_count": null,
   "metadata": {},
   "outputs": [
    {
     "name": "stdout",
     "output_type": "stream",
     "text": [
      "8\n"
     ]
    }
   ],
   "source": [
    "age=[22,19,24,25,26,24,25,24]\n",
    "converted_age=set(age)\n",
    "print(len(age))\n"
   ]
  },
  {
   "cell_type": "code",
   "execution_count": 23,
   "metadata": {},
   "outputs": [
    {
     "name": "stdout",
     "output_type": "stream",
     "text": [
      "Length of list: 8\n",
      "Length of set: 5\n",
      "The list is longer than the set.\n"
     ]
    }
   ],
   "source": [
    "ages = [25, 30, 25, 40, 30, 35, 40, 50]  # List with duplicates\n",
    "\n",
    "ages_set = set(ages)  # Convert list to a set\n",
    "\n",
    "print(\"Length of list:\", len(ages))  # 8\n",
    "print(\"Length of set:\", len(ages_set))  # 5\n",
    "\n",
    "# Comparison\n",
    "if len(ages) > len(ages_set):\n",
    "    print(\"The list is longer than the set.\")\n",
    "elif len(ages) < len(ages_set):\n",
    "    print(\"The set is longer than the list.\")\n",
    "else:\n",
    "    print(\"Both have the same length.\")"
   ]
  },
  {
   "cell_type": "markdown",
   "metadata": {},
   "source": [
    "# Day 8.\n",
    "Dictionary."
   ]
  },
  {
   "cell_type": "code",
   "execution_count": null,
   "metadata": {},
   "outputs": [
    {
     "name": "stdout",
     "output_type": "stream",
     "text": [
      "{}\n",
      "{'Name': ('Tom',), 'color': ('Black',), 'Breed': ('Exotic',), 'Legs': ('Short',), 'Age': 10}\n",
      "{'first_name': 'Emmanuel', 'last_name': 'Matson', 'age': 20, 'gender': 'male', 'marital_status': 'single', 'skills': {'web_tech': ['javascripts'], 'graphic_design': 'Photoshop', 'e_commerce': 'digital_marketer'}, 'address': {'country': 'Kenya', 'City': 'Nairobi'}}\n",
      "7\n",
      "True\n",
      "<class 'dict'>\n",
      "{'first_name': 'Emmanuel', 'last_name': 'Matson', 'age': 20, 'gender': 'male', 'marital_status': 'single', 'skills': {'web_tech': ['javascripts', 'HTML'], 'graphic_design': 'Photoshop', 'e_commerce': 'digital_marketer'}, 'address': {'country': 'Kenya', 'City': 'Nairobi'}}\n",
      "{'first_name': 'Emmanuel', 'last_name': 'Matson', 'age': 20, 'gender': 'male', 'marital_status': 'single', 'skills': {'web_tech': ['javascripts', 'HTML', 'css'], 'graphic_design': 'Photoshop', 'e_commerce': 'digital_marketer'}, 'address': {'country': 'Kenya', 'City': 'Nairobi'}}\n",
      "['first_name', 'last_name', 'age', 'gender', 'marital_status', 'skills', 'address']\n",
      "['Emmanuel', 'Matson', 20, 'male', 'single', {'web_tech': ['javascripts', 'HTML', 'css'], 'graphic_design': 'Photoshop', 'e_commerce': 'digital_marketer'}, {'country': 'Kenya', 'City': 'Nairobi'}]\n",
      "[('first_name', 'Emmanuel'), ('last_name', 'Matson'), ('age', 20), ('gender', 'male'), ('marital_status', 'single'), ('skills', {'web_tech': ['javascripts', 'HTML', 'css'], 'graphic_design': 'Photoshop', 'e_commerce': 'digital_marketer'}), ('address', {'country': 'Kenya', 'City': 'Nairobi'})]\n",
      "{'first_name': 'Emmanuel', 'last_name': 'Matson', 'age': 20, 'gender': 'male', 'marital_status': 'single', 'address': {'country': 'Kenya', 'City': 'Nairobi'}}\n",
      "{'country': 'Kenya', 'City': 'Nairobi'}\n"
     ]
    }
   ],
   "source": [
    "# Creation of empty dictionary.\n",
    "dog={}\n",
    "print(dog)\n",
    "\n",
    "# Adding items to the empty dictionary.\n",
    "dog['Name']='Tom',\n",
    "dog['color']='Black',\n",
    "dog['Breed']='Exotic',\n",
    "dog['Legs']='Short',\n",
    "dog['Age']=10\n",
    "print(dog)\n",
    "\n",
    "# Student dictionary.\n",
    "student={\n",
    "  'first_name':'Emmanuel',\n",
    "  'last_name':'Matson',\n",
    "  'age':20,\n",
    "  'gender':'male',\n",
    "  'marital_status':'single',\n",
    "  'skills':{\n",
    "    'web_tech': ['javascripts'],\n",
    "    'graphic_design': 'Photoshop',\n",
    "    'e_commerce':'digital_marketer'\n",
    "  },\n",
    "  'address':{\n",
    "    'country':'Kenya',\n",
    "    'City':'Nairobi'\n",
    "  }\n",
    "}\n",
    "print(student)\n",
    "print(len(student))\n",
    "print('skills' in student)\n",
    "print(type(student['skills']))\n",
    "student['skills']['web_tech'].append('HTML')  # Adding skills to the skills field.\n",
    "print(student)\n",
    "student['skills']['web_tech'].append('css')\n",
    "print(student)\n",
    "\n",
    "keys_list=list(student.keys())   # Getting student keys as list.\n",
    "print(keys_list)\n",
    "\n",
    "keys_values=list(student.values())  # Getting student values as list.\n",
    "print(keys_values)\n",
    "\n",
    "dict_as_list_of_tuple=list(student.items())   # Converting dictionary to the list of tuple using .items() method.\n",
    "print(dict_as_list_of_tuple)\n",
    "\n",
    "del student['skills']   # Deleting on eof the items of the dictionary using delete method.\n",
    "print(student)\n",
    "\n",
    "print(student.pop('address'))   # Something to consult...######"
   ]
  },
  {
   "cell_type": "code",
   "execution_count": 17,
   "metadata": {},
   "outputs": [
    {
     "name": "stdout",
     "output_type": "stream",
     "text": [
      "[{'a': 1}, {'c': 3}]\n"
     ]
    }
   ],
   "source": [
    "dict_list = [{'a': 1}, {'b': 2}, {'c': 3}]\n",
    "\n",
    "# Delete the second dictionary (index 1)\n",
    "del dict_list[1]\n",
    "\n",
    "print(dict_list)  # Output: [{'a': 1}, {'c': 3}]"
   ]
  },
  {
   "cell_type": "markdown",
   "metadata": {},
   "source": [
    "# day 9\n",
    "Condionals."
   ]
  },
  {
   "cell_type": "code",
   "execution_count": null,
   "metadata": {},
   "outputs": [
    {
     "name": "stdout",
     "output_type": "stream",
     "text": [
      "A is a posiive number\n"
     ]
    }
   ],
   "source": [
    "a=3\n",
    "if a>0:\n",
    "  print('A is a posiive number')\n",
    "else:\n",
    "  print('A is a negative number')  # This is for only two conditions."
   ]
  },
  {
   "cell_type": "code",
   "execution_count": 3,
   "metadata": {},
   "outputs": [
    {
     "name": "stdout",
     "output_type": "stream",
     "text": [
      "A is zero\n",
      "A is a positive number\n"
     ]
    }
   ],
   "source": [
    "# For multiple conditions.\n",
    "a=0\n",
    "if a>0:\n",
    "  print('A is apositive number')\n",
    "elif a<0:\n",
    "  print('A us a negative number')\n",
    "else:\n",
    "  print('A is zero')\n",
    "\n",
    "  # Short hand.\n",
    "  a=3\n",
    "  print('A is a positive number') if a>0 else print('A is negative number')"
   ]
  },
  {
   "cell_type": "code",
   "execution_count": null,
   "metadata": {},
   "outputs": [
    {
     "name": "stdout",
     "output_type": "stream",
     "text": [
      "A is zero\n"
     ]
    }
   ],
   "source": [
    "a = 0\n",
    "if a > 0 and a % 2 == 0:\n",
    "        print('A is an even and positive integer')    # using if and AND logical operator.\n",
    "elif a > 0 and a % 2 !=  0:\n",
    "     print('A is a positive integer')\n",
    "elif a == 0:\n",
    "    print('A is zero')\n",
    "else:\n",
    "    print('A is negative')"
   ]
  },
  {
   "cell_type": "code",
   "execution_count": null,
   "metadata": {},
   "outputs": [],
   "source": []
  },
  {
   "cell_type": "code",
   "execution_count": 1,
   "metadata": {},
   "outputs": [
    {
     "name": "stdout",
     "output_type": "stream",
     "text": [
      "Access granted!\n"
     ]
    }
   ],
   "source": [
    "user = 'admin'  \n",
    "access_level = 4\n",
    "if user == 'admin' or access_level >= 4:   # using if and Or logical operator.\n",
    "        print('Access granted!')\n",
    "else:\n",
    "    print('Access denied!')"
   ]
  },
  {
   "cell_type": "code",
   "execution_count": 7,
   "metadata": {},
   "outputs": [
    {
     "name": "stdout",
     "output_type": "stream",
     "text": [
      "Wait for the missing amount of years.\n"
     ]
    }
   ],
   "source": [
    "# Exercise.\n",
    "age = int(input('Enter your age: '))\n",
    "if age >= 18:\n",
    "\tprint(\"You are old enough to drive.\")\n",
    "else:\n",
    "\tprint(\"Wait for the missing amount of years.\")"
   ]
  },
  {
   "cell_type": "code",
   "execution_count": 2,
   "metadata": {},
   "outputs": [
    {
     "name": "stdout",
     "output_type": "stream",
     "text": [
      "You are 5 years older than me.\n"
     ]
    }
   ],
   "source": [
    "my_age = 25  # Replace with my actual age if needed\n",
    "your_age = int(input(\"Enter your age: \"))\n",
    "\n",
    "if your_age > my_age:\n",
    "    difference = your_age - my_age\n",
    "    if difference == 1:\n",
    "        print(f\"You are {difference} year older than me.\")\n",
    "    else:\n",
    "        print(f\"You are {difference} years older than me.\")\n",
    "elif your_age < my_age:\n",
    "    difference = my_age - your_age\n",
    "    if difference == 1:\n",
    "        print(f\"I am {difference} year older than you.\")\n",
    "    else:\n",
    "        print(f\"I am {difference} years older than you.\")\n",
    "else:\n",
    "    print(\"We are the same age!\")"
   ]
  },
  {
   "cell_type": "code",
   "execution_count": 4,
   "metadata": {},
   "outputs": [
    {
     "name": "stdout",
     "output_type": "stream",
     "text": [
      "a is equal to b\n"
     ]
    }
   ],
   "source": [
    "a=float(input('Enter the number of a'))\n",
    "b=float(input('Enter the number of b'))\n",
    "if a>b:\n",
    "  print('a is greater than b')\n",
    "elif b>a:\n",
    "  print('b is greater than a')\n",
    "else:\n",
    "  print('a is equal to b')"
   ]
  },
  {
   "cell_type": "code",
   "execution_count": 5,
   "metadata": {},
   "outputs": [
    {
     "name": "stdout",
     "output_type": "stream",
     "text": [
      "The student's grade is: A\n"
     ]
    }
   ],
   "source": [
    "score = float(input(\"Enter the student's score: \"))\n",
    "\n",
    "if score >= 90:\n",
    "    grade = \"A\"\n",
    "elif score >= 80:\n",
    "    grade = \"B\"\n",
    "elif score >= 70:\n",
    "    grade = \"C\"\n",
    "elif score >= 60:\n",
    "    grade = \"D\"\n",
    "else:\n",
    "    grade = \"F\"\n",
    "\n",
    "print(f\"The student's grade is: {grade}\")"
   ]
  },
  {
   "cell_type": "code",
   "execution_count": 6,
   "metadata": {},
   "outputs": [
    {
     "name": "stdout",
     "output_type": "stream",
     "text": [
      "The season is: Winter\n"
     ]
    }
   ],
   "source": [
    "month = input(\"Enter a month: \").strip().capitalize()\n",
    "\n",
    "if month in [\"September\", \"October\", \"November\"]:\n",
    "    season = \"Autumn\"\n",
    "elif month in [\"December\", \"January\", \"February\"]:\n",
    "    season = \"Winter\"\n",
    "elif month in [\"March\", \"April\", \"May\"]:\n",
    "    season = \"Spring\"\n",
    "elif month in [\"June\", \"July\", \"August\"]:\n",
    "    season = \"Summer\"\n",
    "else:\n",
    "    season = \"Invalid month entered.\"\n",
    "\n",
    "print(f\"The season is: {season}\")"
   ]
  },
  {
   "cell_type": "code",
   "execution_count": 7,
   "metadata": {},
   "outputs": [
    {
     "name": "stdout",
     "output_type": "stream",
     "text": [
      "Fruit added! Updated list: ['banana', 'orange', 'mango', 'lemon', 'apple']\n"
     ]
    }
   ],
   "source": [
    "fruits = ['banana', 'orange', 'mango', 'lemon']\n",
    "\n",
    "new_fruit = input(\"Enter a fruit: \").strip().lower()\n",
    "\n",
    "if new_fruit in fruits:\n",
    "    print(\"That fruit already exists in the list.\")\n",
    "else:\n",
    "    fruits.append(new_fruit)\n",
    "    print(\"Fruit added! Updated list:\", fruits)"
   ]
  },
  {
   "cell_type": "markdown",
   "metadata": {},
   "source": [
    "# Day 10\n",
    "Loops"
   ]
  },
  {
   "cell_type": "code",
   "execution_count": null,
   "metadata": {},
   "outputs": [
    {
     "name": "stdout",
     "output_type": "stream",
     "text": [
      "0\n",
      "1\n",
      "2\n",
      "4\n"
     ]
    }
   ],
   "source": [
    "count = 0\n",
    "while count < 5:\n",
    "    if count == 3:\n",
    "        count = count + 1\n",
    "        continue\n",
    "    print(count)      # This skips 3 after printing.\n",
    "    count = count + 1"
   ]
  },
  {
   "cell_type": "code",
   "execution_count": 2,
   "metadata": {},
   "outputs": [
    {
     "name": "stdout",
     "output_type": "stream",
     "text": [
      "0\n",
      "1\n",
      "2\n",
      "3\n",
      "4\n",
      "5\n"
     ]
    }
   ],
   "source": [
    "numbers = [0, 1, 2, 3, 4, 5]\n",
    "for number in numbers: # number is temporary name to refer to the list's items, valid only inside this loop\n",
    "    print(number)       # the numbers will be printed line by line, from 0 to 5"
   ]
  },
  {
   "cell_type": "code",
   "execution_count": 3,
   "metadata": {},
   "outputs": [
    {
     "name": "stdout",
     "output_type": "stream",
     "text": [
      "P\n",
      "y\n",
      "t\n",
      "h\n",
      "o\n",
      "n\n",
      "P\n",
      "y\n",
      "t\n",
      "h\n",
      "o\n",
      "n\n"
     ]
    }
   ],
   "source": [
    "language = 'Python'\n",
    "for letter in language:\n",
    "    print(letter)\n",
    "\n",
    "\n",
    "for i in range(len(language)):\n",
    "    print(language[i])"
   ]
  },
  {
   "cell_type": "code",
   "execution_count": 4,
   "metadata": {},
   "outputs": [
    {
     "name": "stdout",
     "output_type": "stream",
     "text": [
      "0\n",
      "1\n",
      "2\n",
      "3\n",
      "4\n",
      "5\n"
     ]
    }
   ],
   "source": [
    "numbers = (0, 1, 2, 3, 4, 5)\n",
    "for number in numbers:\n",
    "    print(number)"
   ]
  },
  {
   "cell_type": "code",
   "execution_count": 5,
   "metadata": {},
   "outputs": [
    {
     "name": "stdout",
     "output_type": "stream",
     "text": [
      "first_name\n",
      "last_name\n",
      "age\n",
      "country\n",
      "is_marred\n",
      "skills\n",
      "address\n",
      "first_name Asabeneh\n",
      "last_name Yetayeh\n",
      "age 250\n",
      "country Finland\n",
      "is_marred True\n",
      "skills ['JavaScript', 'React', 'Node', 'MongoDB', 'Python']\n",
      "address {'street': 'Space street', 'zipcode': '02210'}\n"
     ]
    }
   ],
   "source": [
    "person = {\n",
    "    'first_name':'Asabeneh',\n",
    "    'last_name':'Yetayeh',\n",
    "    'age':250,\n",
    "    'country':'Finland',\n",
    "    'is_marred':True,\n",
    "    'skills':['JavaScript', 'React', 'Node', 'MongoDB', 'Python'],\n",
    "    'address':{\n",
    "        'street':'Space street',\n",
    "        'zipcode':'02210'\n",
    "    }\n",
    "}\n",
    "for key in person:\n",
    "    print(key)\n",
    "\n",
    "for key, value in person.items():\n",
    "    print(key, value) # this way we get both keys and values printed out"
   ]
  },
  {
   "cell_type": "code",
   "execution_count": 7,
   "metadata": {},
   "outputs": [
    {
     "name": "stdout",
     "output_type": "stream",
     "text": [
      "1\n",
      "2\n",
      "3\n",
      "4\n",
      "5\n",
      "6\n",
      "7\n",
      "8\n",
      "9\n"
     ]
    }
   ],
   "source": [
    "# syntax\n",
    "y = [[1, 2, 3], [4, 5, 6], [7, 8, 9]]  # Example nested list\n",
    "for x in y:\n",
    "    for t in x:\n",
    "        print(t)"
   ]
  },
  {
   "cell_type": "code",
   "execution_count": 9,
   "metadata": {},
   "outputs": [
    {
     "name": "stdout",
     "output_type": "stream",
     "text": [
      "0\n",
      "1\n",
      "2\n",
      "3\n",
      "4\n",
      "5\n",
      "6\n",
      "7\n",
      "8\n",
      "9\n",
      "10\n",
      "0\n",
      "1\n",
      "2\n",
      "3\n",
      "4\n",
      "5\n",
      "6\n",
      "7\n",
      "8\n",
      "9\n",
      "10\n"
     ]
    }
   ],
   "source": [
    "# Exercise 10\n",
    "numbers=[0,1,2,3,4,5,6,7,8,9,10]\n",
    "for number in numbers:\n",
    "  print(number)\n",
    "\n",
    "count=0\n",
    "while count < 10:\n",
    " print(count)\n",
    " count+=1\n",
    "else:\n",
    "  print(count)"
   ]
  },
  {
   "cell_type": "code",
   "execution_count": 10,
   "metadata": {},
   "outputs": [
    {
     "name": "stdout",
     "output_type": "stream",
     "text": [
      "10\n",
      "9\n",
      "8\n",
      "7\n",
      "6\n",
      "5\n",
      "4\n",
      "3\n",
      "2\n",
      "1\n",
      "0\n"
     ]
    }
   ],
   "source": [
    "i = 10\n",
    "while i >= 0:\n",
    "    print(i)\n",
    "    i -= 1"
   ]
  },
  {
   "cell_type": "code",
   "execution_count": 11,
   "metadata": {},
   "outputs": [
    {
     "name": "stdout",
     "output_type": "stream",
     "text": [
      "#\n",
      "##\n",
      "###\n",
      "####\n",
      "#####\n",
      "######\n",
      "#######\n"
     ]
    }
   ],
   "source": [
    "for i in range(1, 8):  # Loop from 1 to 7\n",
    "    print(\"#\" * i)  # Print '#' repeated 'i' times"
   ]
  },
  {
   "cell_type": "code",
   "execution_count": 12,
   "metadata": {},
   "outputs": [
    {
     "name": "stdout",
     "output_type": "stream",
     "text": [
      "#\n",
      "##\n",
      "###\n",
      "####\n",
      "#####\n",
      "######\n",
      "#######\n"
     ]
    }
   ],
   "source": [
    "i = 1\n",
    "while i <= 7:\n",
    "    print(\"#\" * i)  # Print '#' repeated 'i' times\n",
    "    i += 1  # Increment i"
   ]
  },
  {
   "cell_type": "code",
   "execution_count": 2,
   "metadata": {},
   "outputs": [
    {
     "name": "stdout",
     "output_type": "stream",
     "text": [
      "# # # # # # # # \n",
      "# # # # # # # # \n",
      "# # # # # # # # \n",
      "# # # # # # # # \n",
      "# # # # # # # # \n",
      "# # # # # # # # \n",
      "# # # # # # # # \n",
      "# # # # # # # # \n"
     ]
    }
   ],
   "source": [
    "rows=8\n",
    "cols=8\n",
    "  \n",
    "for i in range(rows):   # Outer loop for the rows\n",
    "    for j in range(cols):   # Inner loop for columns.\n",
    "        print('#', end=' ')\n",
    "    print() # move to the next line after each row."
   ]
  },
  {
   "cell_type": "code",
   "execution_count": null,
   "metadata": {},
   "outputs": [
    {
     "name": "stdout",
     "output_type": "stream",
     "text": [
      "0x 0 = 0\n",
      "1x 1 = 1\n",
      "2x 2 = 4\n",
      "3x 3 = 9\n",
      "4x 4 = 16\n",
      "5x 5 = 25\n",
      "6x 6 = 36\n",
      "7x 7 = 49\n",
      "8x 8 = 64\n",
      "9x 9 = 81\n",
      "10x 10 = 100\n"
     ]
    }
   ],
   "source": [
    "rows=11  # Number of rows.\n",
    "\n",
    "for i in range(rows):  # loop from 0 to 10\n",
    "    print(f'{i}x {i} = {i*i}')"
   ]
  },
  {
   "cell_type": "code",
   "execution_count": 3,
   "metadata": {},
   "outputs": [
    {
     "name": "stdout",
     "output_type": "stream",
     "text": [
      "Summ of even numbers: 2550\n",
      "Sum of odd numbers: 2500\n"
     ]
    }
   ],
   "source": [
    "\n",
    "\n",
    "even_sum=0\n",
    "odd_sum=0\n",
    "\n",
    "for i in range(101):\n",
    "  if i%2==0:\n",
    "    even_sum+=i\n",
    "  else:\n",
    "    odd_sum+=i\n",
    "\n",
    "print('Summ of even numbers:', even_sum)\n",
    "print('Sum of odd numbers:', odd_sum)"
   ]
  },
  {
   "cell_type": "markdown",
   "metadata": {},
   "source": []
  },
  {
   "cell_type": "code",
   "execution_count": 5,
   "metadata": {},
   "outputs": [
    {
     "name": "stdout",
     "output_type": "stream",
     "text": [
      "countries containing \"land\": ['Finland', 'Switzerland', 'Thailand', 'Iceland', 'Ireland', 'Poland', 'Netherlands', 'New Zealand', 'Greenland']\n"
     ]
    }
   ],
   "source": [
    "# Mock countries list for testing\n",
    "countries = [\n",
    "\t\"Finland\", \"Switzerland\", \"Thailand\", \"Iceland\", \"Ireland\", \n",
    "\t\"Poland\", \"Netherlands\", \"New Zealand\", \"Greenland\"\n",
    "]\n",
    "\n",
    "land_countries = [country for country in countries if 'land' in country.lower()]\n",
    "print('countries containing \"land\":', land_countries)"
   ]
  },
  {
   "cell_type": "code",
   "execution_count": null,
   "metadata": {},
   "outputs": [
    {
     "name": "stdout",
     "output_type": "stream",
     "text": [
      "Index 0: banana\n",
      "Index 1: orange\n",
      "Index 2: mango\n",
      "Index 3: lemon\n"
     ]
    }
   ],
   "source": [
    "fruits = ['banana', 'orange', 'mango', 'lemon']   # looping though the list.\n",
    "\n",
    "for i in range(len(fruits)):  # i takes values 0, 1, 2, 3\n",
    "    print(f\"Index {i}: {fruits[i]}\")"
   ]
  },
  {
   "cell_type": "code",
   "execution_count": null,
   "metadata": {},
   "outputs": [
    {
     "name": "stdout",
     "output_type": "stream",
     "text": [
      "Reversed list: ['lemon', 'mango', 'orange', 'banana']\n"
     ]
    }
   ],
   "source": [
    "fruits = ['banana', 'orange', 'mango', 'lemon']  # In reserving order.\n",
    "reversed_fruits = []\n",
    "\n",
    "# Loop through the list in reverse order\n",
    "for i in range(len(fruits) - 1, -1, -1):\n",
    "    reversed_fruits.append(fruits[i])\n",
    "\n",
    "print(\"Reversed list:\", reversed_fruits)"
   ]
  },
  {
   "cell_type": "markdown",
   "metadata": {},
   "source": [
    "Day 11.\n",
    "Functions."
   ]
  },
  {
   "cell_type": "code",
   "execution_count": null,
   "metadata": {},
   "outputs": [],
   "source": [
    "# Function is a  reusable block of code or programming statements designed to perform a certain task.\n",
    "\n",
    "# Python provides the  def keyword.\n",
    "# The function block is executed only if the finction is called  or involked.\n",
    "\n",
    "# syntax \n",
    "# Declaring  function\n",
    "\n",
    "def function_name():\n",
    "  Code\n",
    "  Code\n",
    "# calling a function \n",
    "\n",
    "function_name()"
   ]
  },
  {
   "cell_type": "code",
   "execution_count": 10,
   "metadata": {},
   "outputs": [],
   "source": [
    "# Examples \n",
    "def generate_full_name():\n",
    "  first_name='Emma'\n",
    "  last_name='Mat'\n",
    "  space=' '\n",
    "  full_name=first_name + space +last_name\n",
    "  print(full_name)\n",
    "  generate_full_name()   # Involking the function"
   ]
  },
  {
   "cell_type": "code",
   "execution_count": 12,
   "metadata": {},
   "outputs": [],
   "source": [
    "def add_two_numbers():\n",
    "  num_one=2\n",
    "  num_two=5\n",
    "  total=num_one+num_two\n",
    "  return total\n",
    "  print(add_two_numbers())"
   ]
  },
  {
   "cell_type": "code",
   "execution_count": 13,
   "metadata": {},
   "outputs": [
    {
     "name": "stdout",
     "output_type": "stream",
     "text": [
      "Emma,Welcome to Python everyone!\n"
     ]
    }
   ],
   "source": [
    "# Function with parameters \n",
    "def greeting(name):\n",
    "  message=name + ',Welcome to Python everyone!'\n",
    "  return message\n",
    "print(greeting('Emma'))"
   ]
  },
  {
   "cell_type": "code",
   "execution_count": 14,
   "metadata": {},
   "outputs": [
    {
     "name": "stdout",
     "output_type": "stream",
     "text": [
      "4\n"
     ]
    }
   ],
   "source": [
    "def square_num(x):\n",
    "  return x*x\n",
    "print(square_num(2))"
   ]
  },
  {
   "cell_type": "code",
   "execution_count": 15,
   "metadata": {},
   "outputs": [
    {
     "name": "stdout",
     "output_type": "stream",
     "text": [
      "[0, 2, 4, 6, 8, 10]\n"
     ]
    }
   ],
   "source": [
    "def find_even_numbers(n):\n",
    "    evens = []\n",
    "    for i in range(n + 1):\n",
    "        if i % 2 == 0:\n",
    "            evens.append(i)\n",
    "    return evens\n",
    "print(find_even_numbers(10))"
   ]
  },
  {
   "cell_type": "code",
   "execution_count": 16,
   "metadata": {},
   "outputs": [
    {
     "name": "stdout",
     "output_type": "stream",
     "text": [
      "14\n"
     ]
    }
   ],
   "source": [
    "# Exercise\n",
    "\n",
    "def add_two_numbers(a,b):\n",
    "  return a + b\n",
    "print(add_two_numbers(6,8))\n"
   ]
  },
  {
   "cell_type": "code",
   "execution_count": 17,
   "metadata": {},
   "outputs": [
    {
     "name": "stdout",
     "output_type": "stream",
     "text": [
      "28.274333882308138\n"
     ]
    }
   ],
   "source": [
    "import math\n",
    "\n",
    "def area_of_circle(r):\n",
    "  return math.pi * r * r\n",
    "print(area_of_circle(3))"
   ]
  },
  {
   "cell_type": "code",
   "execution_count": 18,
   "metadata": {},
   "outputs": [
    {
     "name": "stdout",
     "output_type": "stream",
     "text": [
      "30\n",
      "11.5\n",
      "Error: All inputs must be numbers!\n"
     ]
    }
   ],
   "source": [
    "def add_all_nums(*args):\n",
    "    # Check if all arguments are numbers\n",
    "    if all(isinstance(i, (int, float)) for i in args):\n",
    "        return sum(args)  # Sum up all numbers\n",
    "    else:\n",
    "        return \"Error: All inputs must be numbers!\"\n",
    "\n",
    "# Example usage\n",
    "print(add_all_nums(5, 10, 15))        # Output: 30\n",
    "print(add_all_nums(3, 7.5, 2, -1))    # Output: 11.5\n",
    "print(add_all_nums(4, 'hello', 6))    # Output: Error: All inputs must be numbers!"
   ]
  },
  {
   "cell_type": "code",
   "execution_count": 1,
   "metadata": {},
   "outputs": [
    {
     "name": "stdout",
     "output_type": "stream",
     "text": [
      "Asabeneh Yetayeh\n",
      "David Smith\n"
     ]
    }
   ],
   "source": [
    "def generate_full_name (first_name = 'Asabeneh', last_name = 'Yetayeh'):\n",
    "    space = ' '\n",
    "    full_name = first_name + space + last_name\n",
    "    return full_name\n",
    "\n",
    "print(generate_full_name())\n",
    "print(generate_full_name('David','Smith'))\n"
   ]
  },
  {
   "cell_type": "code",
   "execution_count": 2,
   "metadata": {},
   "outputs": [
    {
     "name": "stdout",
     "output_type": "stream",
     "text": [
      "Peter, welcome to Python for Everyone!\n",
      "Asabeneh, welcome to Python for Everyone!\n"
     ]
    }
   ],
   "source": [
    "def greetings (name = 'Peter'):\n",
    "    message = name + ', welcome to Python for Everyone!'\n",
    "    return message\n",
    "print(greetings())\n",
    "print(greetings('Asabeneh'))\n"
   ]
  },
  {
   "cell_type": "code",
   "execution_count": 3,
   "metadata": {},
   "outputs": [
    {
     "name": "stdout",
     "output_type": "stream",
     "text": [
      "25°C is equal to 77.0°F\n"
     ]
    }
   ],
   "source": [
    "def convert_celsius_to_fahrenheit(celsius):\n",
    "    return (celsius * 9/5) + 32\n",
    "\n",
    "# Example usage:\n",
    "temperature_celsius = 25\n",
    "temperature_fahrenheit = convert_celsius_to_fahrenheit(temperature_celsius)\n",
    "print(f\"{temperature_celsius}°C is equal to {temperature_fahrenheit}°F\")"
   ]
  },
  {
   "cell_type": "code",
   "execution_count": 1,
   "metadata": {},
   "outputs": [
    {
     "name": "stdout",
     "output_type": "stream",
     "text": [
      "March is in Spring.\n"
     ]
    }
   ],
   "source": [
    "def check_season(month):\n",
    "    month = month.lower()  # Convert to lowercase for case insensitivity\n",
    "\n",
    "    if month in [\"december\", \"january\", \"february\"]:\n",
    "        return \"Winter\"\n",
    "    elif month in [\"march\", \"april\", \"may\"]:\n",
    "        return \"Spring\"\n",
    "    elif month in [\"june\", \"july\", \"august\"]:\n",
    "        return \"Summer\"\n",
    "    elif month in [\"september\", \"october\", \"november\"]:\n",
    "        return \"Autumn\"\n",
    "    else:\n",
    "        return \"Invalid month\"\n",
    "\n",
    "# Example usage:\n",
    "month_name = \"March\"\n",
    "season = check_season(month_name)\n",
    "print(f\"{month_name} is in {season}.\")"
   ]
  },
  {
   "cell_type": "code",
   "execution_count": 2,
   "metadata": {},
   "outputs": [
    {
     "name": "stdout",
     "output_type": "stream",
     "text": [
      "The slope of the line is: 1.0\n"
     ]
    }
   ],
   "source": [
    "def calculate_slope(x1, y1, x2, y2):\n",
    "  if x1==x2:\n",
    "    return 'Undefined(Vertical line)'\n",
    "  return (y2-y1)/(x2-x1)\n",
    "slope=calculate_slope(1,2,3,4)\n",
    "print(f'The slope of the line is: {slope}')"
   ]
  },
  {
   "cell_type": "code",
   "execution_count": 3,
   "metadata": {},
   "outputs": [
    {
     "name": "stdout",
     "output_type": "stream",
     "text": [
      "Solutions: (2.0, 1.0)\n"
     ]
    }
   ],
   "source": [
    "import math\n",
    "\n",
    "def solve_quadratic_eqn(a, b, c):\n",
    "    if a == 0:\n",
    "        return \"Not a quadratic equation (a cannot be 0).\"\n",
    "\n",
    "    # Calculate the discriminant\n",
    "    discriminant = b**2 - 4*a*c\n",
    "\n",
    "    if discriminant > 0:\n",
    "        root1 = (-b + math.sqrt(discriminant)) / (2 * a)\n",
    "        root2 = (-b - math.sqrt(discriminant)) / (2 * a)\n",
    "        return (root1, root2)  # Two real solutions\n",
    "    elif discriminant == 0:\n",
    "        root = -b / (2 * a)\n",
    "        return (root,)  # One real solution (tuple with one element)\n",
    "    else:\n",
    "        real_part = -b / (2 * a)\n",
    "        imaginary_part = math.sqrt(abs(discriminant)) / (2 * a)\n",
    "        return (complex(real_part, imaginary_part), complex(real_part, -imaginary_part))  # Two complex solutions\n",
    "\n",
    "# Example usage:\n",
    "solutions = solve_quadratic_eqn(1, -3, 2)\n",
    "print(f\"Solutions: {solutions}\")"
   ]
  },
  {
   "cell_type": "code",
   "execution_count": 4,
   "metadata": {},
   "outputs": [
    {
     "name": "stdout",
     "output_type": "stream",
     "text": [
      "1\n",
      "2\n",
      "3\n",
      "hello\n",
      "True\n"
     ]
    }
   ],
   "source": [
    "def print_list(lst):\n",
    "    for item in lst:\n",
    "        print(item)\n",
    "\n",
    "# Example usage:\n",
    "sample_list = [1, 2, 3, \"hello\", True]\n",
    "print_list(sample_list)"
   ]
  },
  {
   "cell_type": "code",
   "execution_count": 6,
   "metadata": {},
   "outputs": [
    {
     "name": "stdout",
     "output_type": "stream",
     "text": [
      "[5, 4, 3, 2, 1]\n"
     ]
    }
   ],
   "source": [
    "def reversed_list(arr):\n",
    "  reversed_arr=[]\n",
    "  for ir in range(len(arr) -1,-1,-1):\n",
    "    reversed_arr.append(arr[ir])\n",
    "  return reversed_arr\n",
    "\n",
    "# Example usage:\n",
    "arr = [1, 2, 3, 4, 5]\n",
    "reversed_arr = reversed_list(arr)\n",
    "print(reversed_arr)"
   ]
  },
  {
   "cell_type": "code",
   "execution_count": 7,
   "metadata": {},
   "outputs": [
    {
     "name": "stdout",
     "output_type": "stream",
     "text": [
      "['Apple', 'Banana', 'Cherry']\n"
     ]
    }
   ],
   "source": [
    "def capitalize_list_items(lst):\n",
    "    return [item.capitalize() if isinstance(item, str) else item for item in lst]\n",
    "\n",
    "# Example usage:\n",
    "sample_list = [\"apple\", \"banana\", \"cherry\"]\n",
    "print(capitalize_list_items(sample_list))"
   ]
  },
  {
   "cell_type": "code",
   "execution_count": 8,
   "metadata": {},
   "outputs": [
    {
     "name": "stdout",
     "output_type": "stream",
     "text": [
      "[1, 2, 3, 4]\n"
     ]
    }
   ],
   "source": [
    "def add_item(lst, item):\n",
    "    lst.append(item)\n",
    "    return lst\n",
    "\n",
    "# Example usage:\n",
    "sample_list = [1, 2, 3]\n",
    "new_list = add_item(sample_list, 4)\n",
    "print(new_list)"
   ]
  },
  {
   "cell_type": "code",
   "execution_count": null,
   "metadata": {},
   "outputs": [
    {
     "name": "stdout",
     "output_type": "stream",
     "text": [
      "[1, 2, 4, 3]\n"
     ]
    }
   ],
   "source": [
    "def remove_item(lst, item):\n",
    "    if item in lst:\n",
    "        lst.remove(item)  # Remove only the first occurrence\n",
    "    return lst\n",
    "\n",
    "# Example usage:\n",
    "sample_list = [1, 2, 3, 4, 3]\n",
    "new_list = remove_item(sample_list, 3) # Remove the first occurrence of 3\n",
    "print(new_list) "
   ]
  },
  {
   "cell_type": "code",
   "execution_count": 10,
   "metadata": {},
   "outputs": [
    {
     "name": "stdout",
     "output_type": "stream",
     "text": [
      "55\n"
     ]
    }
   ],
   "source": [
    "def sum_of_numbers(n):\n",
    "    return sum(range(1,n + 1))\n",
    "print(sum_of_numbers(10))"
   ]
  },
  {
   "cell_type": "code",
   "execution_count": 14,
   "metadata": {},
   "outputs": [
    {
     "name": "stdout",
     "output_type": "stream",
     "text": [
      "9\n",
      "6\n"
     ]
    }
   ],
   "source": [
    "def odd_numbers(n):\n",
    "  return sum(i for i in range(1,n+1) if i%2!=0)  # List comprehension\n",
    "print(odd_numbers(5))\n",
    "\n",
    "def even_numbers(n):\n",
    "  return sum(i for i in range(1,n+1) if i%2==0)\n",
    "print(even_numbers(5))"
   ]
  },
  {
   "cell_type": "code",
   "execution_count": 20,
   "metadata": {},
   "outputs": [],
   "source": [
    "def even_and_odd_numbers(n):\n",
    "  even=sum(i for i in range(n+1) if i%2==0)\n",
    "  odd=sum(i for i in range(n+1) if i%2!=0)\n",
    "\n",
    "  print(f'Even numbers: {even}')\n",
    "  print(f'Odd numbers: {odd}')\n",
    "  \n",
    "  print(even_and_odd_numbers(100))"
   ]
  },
  {
   "cell_type": "code",
   "execution_count": 21,
   "metadata": {},
   "outputs": [
    {
     "name": "stdout",
     "output_type": "stream",
     "text": [
      "120\n"
     ]
    }
   ],
   "source": [
    "def factorial(n):\n",
    "    if n < 0:\n",
    "        return \"Factorial is not defined for negative numbers.\"\n",
    "    result = 1\n",
    "    for i in range(1, n + 1):\n",
    "        result *= i\n",
    "    return result\n",
    "\n",
    "# Example usage:\n",
    "print(factorial(5)) "
   ]
  },
  {
   "cell_type": "code",
   "execution_count": 22,
   "metadata": {},
   "outputs": [
    {
     "name": "stdout",
     "output_type": "stream",
     "text": [
      "True\n",
      "True\n",
      "True\n",
      "True\n",
      "False\n",
      "False\n"
     ]
    }
   ],
   "source": [
    "def is_empty(value):\n",
    "    return not bool(value)  # Returns True if empty, False otherwise\n",
    "\n",
    "# Example usage:\n",
    "print(is_empty([]))       # Output: True (empty list)\n",
    "print(is_empty(\"\"))       # Output: True (empty string)\n",
    "print(is_empty(None))     # Output: True (None is considered empty)\n",
    "print(is_empty(0))        # Output: True (0 is considered empty in Python)\n",
    "print(is_empty(\"Hello\"))  # Output: False (not empty)\n",
    "print(is_empty([1, 2]))   # Output: False (list is not empty)"
   ]
  },
  {
   "cell_type": "code",
   "execution_count": 23,
   "metadata": {},
   "outputs": [
    {
     "name": "stdout",
     "output_type": "stream",
     "text": [
      "Mean: 5.25\n",
      "Median: 5.5\n",
      "Mode: 7\n",
      "Range: 7\n",
      "Variance: 6.785714285714286\n",
      "Standard Deviation: 2.6049403612586386\n"
     ]
    }
   ],
   "source": [
    "import statistics\n",
    "\n",
    "def calculate_mean(lst):\n",
    "    return sum(lst) / len(lst) if lst else None  # Prevent division by zero\n",
    "\n",
    "def calculate_median(lst):\n",
    "    return statistics.median(lst) if lst else None  # Uses built-in median function\n",
    "\n",
    "def calculate_mode(lst):\n",
    "    try:\n",
    "        return statistics.mode(lst) if lst else None  # Uses built-in mode function\n",
    "    except statistics.StatisticsError:\n",
    "        return \"No unique mode\"  # Handles multiple modes\n",
    "\n",
    "def calculate_range(lst):\n",
    "    return max(lst) - min(lst) if lst else None  # Difference between max and min\n",
    "\n",
    "def calculate_variance(lst):\n",
    "    return statistics.variance(lst) if len(lst) > 1 else None  # Uses built-in variance function\n",
    "\n",
    "def calculate_std(lst):\n",
    "    return statistics.stdev(lst) if len(lst) > 1 else None  # Uses built-in standard deviation function\n",
    "\n",
    "# Example usage:\n",
    "numbers = [4, 7, 2, 9, 7, 4, 7, 2]\n",
    "\n",
    "print(\"Mean:\", calculate_mean(numbers))\n",
    "print(\"Median:\", calculate_median(numbers))\n",
    "print(\"Mode:\", calculate_mode(numbers))\n",
    "print(\"Range:\", calculate_range(numbers))\n",
    "print(\"Variance:\", calculate_variance(numbers))\n",
    "print(\"Standard Deviation:\", calculate_std(numbers))"
   ]
  },
  {
   "cell_type": "code",
   "execution_count": null,
   "metadata": {},
   "outputs": [
    {
     "name": "stdout",
     "output_type": "stream",
     "text": [
      "True\n",
      "True\n",
      "False\n",
      "False\n"
     ]
    }
   ],
   "source": [
    "def is_prime(n):\n",
    "    if n < 2:\n",
    "        return False  # 0 and 1 are not prime numbers\n",
    "\n",
    "    for i in range(2, int(n ** 0.5) + 1):  # Check divisibility up to sqrt(n)\n",
    "        if n % i == 0:\n",
    "            return False  # Found a divisor, so it's not prime\n",
    "\n",
    "    return True  # No divisors found, it's prime\n",
    "\n",
    "# Example usage:\n",
    "print(is_prime(2))   \n",
    "print(is_prime(11))  \n",
    "print(is_prime(15))  \n",
    "print(is_prime(1))   "
   ]
  },
  {
   "cell_type": "code",
   "execution_count": null,
   "metadata": {},
   "outputs": [
    {
     "name": "stdout",
     "output_type": "stream",
     "text": [
      "True\n",
      "False\n",
      "True\n",
      "False\n"
     ]
    }
   ],
   "source": [
    "def are_items_unique(lst):\n",
    "    return len(lst) == len(set(lst))  # Convert list to set and compare lengths, this is because set does not allow duplicates.\n",
    "\n",
    "# Example usage:\n",
    "print(are_items_unique([1, 2, 3, 4]))      \n",
    "print(are_items_unique([1, 2, 3, 3, 4]))   # 3 appears twice.\n",
    "print(are_items_unique([\"a\", \"b\", \"c\"]))  \n",
    "print(are_items_unique([\"apple\", \"banana\", \"apple\"]))"
   ]
  },
  {
   "cell_type": "code",
   "execution_count": null,
   "metadata": {},
   "outputs": [
    {
     "name": "stdout",
     "output_type": "stream",
     "text": [
      "True\n",
      "True\n",
      "False\n",
      "True\n"
     ]
    }
   ],
   "source": [
    "def are_items_same_type(lst):\n",
    "    if not lst:\n",
    "        return True  # An empty list has no conflicting types\n",
    "    \n",
    "    first_type = type(lst[0])  # Get the type of the first element\n",
    "    return all(isinstance(item, first_type) for item in lst)  # Check all items\n",
    "\n",
    "# Example usage:\n",
    "print(are_items_same_type([1, 2, 3, 4]))        \n",
    "print(are_items_same_type([\"a\", \"b\", \"c\"]))     \n",
    "print(are_items_same_type([1, \"b\", 3.0]))       # mixed types\n",
    "print(are_items_same_type([]))                  # empty list"
   ]
  },
  {
   "cell_type": "code",
   "execution_count": 27,
   "metadata": {},
   "outputs": [
    {
     "name": "stdout",
     "output_type": "stream",
     "text": [
      "True\n",
      "False\n",
      "False\n",
      "True\n",
      "False\n"
     ]
    }
   ],
   "source": [
    "import keyword\n",
    "\n",
    "def is_valid_variable(var_name):\n",
    "    return var_name.isidentifier() and not keyword.iskeyword(var_name)\n",
    "\n",
    "# Example usage:\n",
    "print(is_valid_variable(\"my_var\"))      # Output: True (valid)\n",
    "print(is_valid_variable(\"2variable\"))   # Output: False (cannot start with a number)\n",
    "print(is_valid_variable(\"if\"))          # Output: False (reserved keyword)\n",
    "print(is_valid_variable(\"_hidden\"))     # Output: True (valid, even though it's conventionally private)\n",
    "print(is_valid_variable(\"var-name\"))    # Output: False (hyphens are not allowed)"
   ]
  },
  {
   "cell_type": "code",
   "execution_count": 1,
   "metadata": {},
   "outputs": [
    {
     "name": "stdout",
     "output_type": "stream",
     "text": [
      "qb3ETz\n"
     ]
    }
   ],
   "source": [
    "import random\n",
    "import string\n",
    "\n",
    "def generate_random_user_id():\n",
    "    return ''.join(random.choices(string.ascii_letters + string.digits, k=6))\n",
    "\n",
    "# Example usage\n",
    "print(generate_random_user_id())"
   ]
  },
  {
   "cell_type": "code",
   "execution_count": 4,
   "metadata": {},
   "outputs": [
    {
     "name": "stdout",
     "output_type": "stream",
     "text": [
      "LdHOCN\n",
      "5II1sM\n",
      "zHHcDl\n",
      "L4RTvH\n"
     ]
    }
   ],
   "source": [
    "# Modifyied version of the function\n",
    "\n",
    "import random\n",
    "import string\n",
    "\n",
    "def user_id_gen_by_user():\n",
    "    num_chars = int(input(\"Enter the number of characters per ID: \"))\n",
    "    num_ids = int(input(\"Enter the number of IDs to generate: \"))\n",
    "\n",
    "    user_ids = [''.join(random.choices(string.ascii_letters + string.digits, k=num_chars)) for _ in range(num_ids)]\n",
    "    \n",
    "    for user_id in user_ids:\n",
    "        print(user_id)\n",
    "user_id_gen_by_user()"
   ]
  },
  {
   "cell_type": "code",
   "execution_count": 9,
   "metadata": {},
   "outputs": [
    {
     "name": "stdout",
     "output_type": "stream",
     "text": [
      "rgb(199, 228, 67)\n"
     ]
    }
   ],
   "source": [
    "import random\n",
    "\n",
    "def rgb_color_gen():\n",
    "    r = random.randint(0, 255)  # Generate a random value for red (0-255)\n",
    "    g = random.randint(0, 255)  # Generate a random value for green (0-255)\n",
    "    b = random.randint(0, 255)  # Generate a random value for blue (0-255)\n",
    "    return f\"rgb({r}, {g}, {b})\"\n",
    "\n",
    "# Example usage\n",
    "print(rgb_color_gen())"
   ]
  },
  {
   "cell_type": "code",
   "execution_count": 18,
   "metadata": {},
   "outputs": [
    {
     "name": "stdout",
     "output_type": "stream",
     "text": [
      "['#05b784', '#2e514a', '#96aef0', '#939f7a', '#46ab63']\n"
     ]
    }
   ],
   "source": [
    "import random\n",
    "\n",
    "def list_of_hexa_colors(num_colors):\n",
    "    hex_colors = ['#' + ''.join(random.choices('0123456789abcdef', k=6)) for _ in range(num_colors)]\n",
    "    return hex_colors\n",
    "\n",
    "# Example usage\n",
    "print(list_of_hexa_colors(5))  # Generates 5 random hex colors"
   ]
  },
  {
   "cell_type": "code",
   "execution_count": 15,
   "metadata": {},
   "outputs": [
    {
     "name": "stdout",
     "output_type": "stream",
     "text": [
      "['rgb(216, 58, 204)', 'rgb(51, 59, 225)', 'rgb(47, 71, 160)', 'rgb(186, 203, 227)', 'rgb(251, 28, 76)']\n"
     ]
    }
   ],
   "source": [
    "import random\n",
    "\n",
    "def list_of_rgb_colors(num_colors):\n",
    "    rgb_colors = [f\"rgb({random.randint(0, 255)}, {random.randint(0, 255)}, {random.randint(0, 255)})\" for _ in range(num_colors)]\n",
    "    return rgb_colors\n",
    "\n",
    "# Example usage\n",
    "print(list_of_rgb_colors(5))  # Generates 5 random RGB colors"
   ]
  },
  {
   "cell_type": "markdown",
   "metadata": {},
   "source": [
    "Day 13.\n",
    "\n",
    "Lists Comprehesion."
   ]
  },
  {
   "cell_type": "code",
   "execution_count": null,
   "metadata": {},
   "outputs": [
    {
     "name": "stdout",
     "output_type": "stream",
     "text": [
      "<class 'list'>\n",
      "['P', 'y', 't', 'h', 'o', 'n']\n",
      "['P', 'y', 't', 'h', 'o', 'n']\n"
     ]
    }
   ],
   "source": [
    "language='Python'\n",
    "lst=list(language)  # Converting string to list\n",
    "print(type(lst))\n",
    "print(lst)\n",
    "\n",
    "lst=[i for i in language]   # List comprehension\n",
    "print(lst)"
   ]
  },
  {
   "cell_type": "code",
   "execution_count": 4,
   "metadata": {},
   "outputs": [
    {
     "name": "stdout",
     "output_type": "stream",
     "text": [
      "[0, 1, 2, 3, 4, 5, 6, 7, 8, 9, 10]\n",
      "[0, 1, 4, 9, 16, 25, 36, 49, 64, 81, 100]\n"
     ]
    }
   ],
   "source": [
    "numbers=[i for i in range(11)]  # List comprehension\n",
    "print(numbers)\n",
    "\n",
    "squares=[i*i for i in range(11)]  # List comprehension\n",
    "print(squares)"
   ]
  },
  {
   "cell_type": "code",
   "execution_count": 12,
   "metadata": {},
   "outputs": [
    {
     "name": "stdout",
     "output_type": "stream",
     "text": [
      "[0, 2, 4, 6, 8, 10, 12, 14, 16, 18, 20]\n",
      "[1, 3, 5, 7, 9, 11, 13, 15, 17, 19]\n",
      "[1, 2, 3, 4, 5, 6, 7, 8, 9, 10, 11, 12, 13, 14, 15, 16, 17, 18, 19, 20]\n",
      "[-21, -20, -19, -18, -17, -16, -15, -14, -13, -12, -11, -10, -9, -8, -7, -6, -5, -4, -3, -2, -1]\n",
      "[0, 'odd', 2, 'odd', 4, 'odd', 6, 'odd', 8, 'odd', 10]\n",
      "[0, 10, 20]\n",
      "[1, 2, 3, 4, 5, 6, 7, 8, 9]\n"
     ]
    }
   ],
   "source": [
    "# Using list comprehesion together using if statement.\n",
    "even_numbers=[i for i in range(21) if i%2==0]\n",
    "print(even_numbers)\n",
    "\n",
    "odd_numbers=[i for i in range(21) if i%2!=0]\n",
    "print(odd_numbers)\n",
    "\n",
    "positve_numbers=[i for i in range(21) if i>0]\n",
    "print(positve_numbers)\n",
    "\n",
    "negative_numbers=[i for i in range(-21,1) if i<0]\n",
    "print(negative_numbers)\n",
    "\n",
    "# Using list comprehension with if else statement.\n",
    "numbers=[i if i%2==0 else 'odd' for i in range(11)]\n",
    "print(numbers)\n",
    "\n",
    "# Using list comprehension with nested if statement.\n",
    "numbers=[i for i in range(21) if i%2==0 if i%5==0]\n",
    "print(numbers)\n",
    "\n",
    "# Flattened list using list comprehension.\n",
    "nested_list=[[1,2,3],[4,5,6],[7,8,9]]\n",
    "flattened_list=[i for row in nested_list for i in row]\n",
    "print(flattened_list)\n"
   ]
  },
  {
   "cell_type": "code",
   "execution_count": null,
   "metadata": {},
   "outputs": [
    {
     "name": "stdout",
     "output_type": "stream",
     "text": [
      "8\n",
      "24\n",
      "Welcome to Python\n",
      "9\n",
      "True\n"
     ]
    }
   ],
   "source": [
    "# lambda function\n",
    "# lambda function is an anonymous function.\n",
    "\n",
    "add_two_nums=lambda a,b:a+b\n",
    "print(add_two_nums(3,5))\n",
    "\n",
    "# lambda function with multiple arguments.\n",
    "multiply=lambda a,b,c:a*b*c\n",
    "print(multiply(2,3,4))\n",
    "\n",
    "# lambda function with no arguments.\n",
    "create_greeting=lambda:'Welcome to Python'\n",
    "print(create_greeting())\n",
    "\n",
    "square=lambda x:x*x\n",
    "print(square(3))\n",
    "\n",
    "# lambda function with if else statement.\n",
    "check_even=lambda a:True if a%2==0 else False\n",
    "print(check_even(4))\n",
    "\n"
   ]
  },
  {
   "cell_type": "code",
   "execution_count": 18,
   "metadata": {},
   "outputs": [
    {
     "name": "stdout",
     "output_type": "stream",
     "text": [
      "[-4, -3, -2, -1, 0]\n"
     ]
    }
   ],
   "source": [
    "# Exercise.\n",
    "numbers=[-4,-3,-2,-1,0,2,4,6]\n",
    "negative_nums=[i for i in numbers if i<=0]\n",
    "print(negative_nums)"
   ]
  },
  {
   "cell_type": "code",
   "execution_count": null,
   "metadata": {},
   "outputs": [
    {
     "name": "stdout",
     "output_type": "stream",
     "text": [
      "[1, 2, 3, 4, 5, 6, 7, 8, 9]\n"
     ]
    }
   ],
   "source": [
    "list_of_lists=[[1,2,3],[4,5,6],[7,8,9]]    # Flattening the list of lists.\n",
    "flattened_list=[i for row in list_of_lists for i in row]\n",
    "print(flattened_list)"
   ]
  },
  {
   "cell_type": "code",
   "execution_count": null,
   "metadata": {},
   "outputs": [
    {
     "name": "stdout",
     "output_type": "stream",
     "text": [
      "[(0, 1, 0, 0, 0, 0, 0), (1, 1, 1, 1, 1, 1, 1), (2, 1, 2, 4, 8, 16, 32), (3, 1, 3, 9, 27, 81, 243), (4, 1, 4, 16, 64, 256, 1024), (5, 1, 5, 25, 125, 625, 3125), (6, 1, 6, 36, 216, 1296, 7776), (7, 1, 7, 49, 343, 2401, 16807), (8, 1, 8, 64, 512, 4096, 32768), (9, 1, 9, 81, 729, 6561, 59049), (10, 1, 10, 100, 1000, 10000, 100000)]\n"
     ]
    }
   ],
   "source": [
    "tuple = [(i, 1, i**1, i**2, i**3, i**4, i**5) for i in range(11)]   # Creating a tuple.\n",
    "print(tuple)"
   ]
  },
  {
   "cell_type": "code",
   "execution_count": null,
   "metadata": {},
   "outputs": [
    {
     "name": "stdout",
     "output_type": "stream",
     "text": [
      "[('Finland', 'Helsinki'), ('Sweden', 'Stockholm'), ('Norway', 'Oslo')]\n"
     ]
    }
   ],
   "source": [
    "countries = [[('Finland', 'Helsinki')], [('Sweden', 'Stockholm')], [('Norway', 'Oslo')]]  # Flattening the list of lists.\n",
    "\n",
    "flattened_list = [i for row in countries for i in row]\n",
    "print(flattened_list)\n",
    "\n"
   ]
  },
  {
   "cell_type": "code",
   "execution_count": 26,
   "metadata": {},
   "outputs": [
    {
     "name": "stdout",
     "output_type": "stream",
     "text": [
      "[{'country': 'FINLAND', 'city': 'HELSINKI'}, {'country': 'SWEDEN', 'city': 'STOCKHOLM'}, {'country': 'NORWAY', 'city': 'OSLO'}]\n"
     ]
    }
   ],
   "source": [
    "countries = [[('Finland', 'Helsinki')], [('Sweden', 'Stockholm')], [('Norway', 'Oslo')]]\n",
    "\n",
    "my_dict = [{'country': country.upper(), 'city': city.upper()} for [(country, city)] in countries]\n",
    "\n",
    "print(my_dict)"
   ]
  },
  {
   "cell_type": "code",
   "execution_count": 27,
   "metadata": {},
   "outputs": [
    {
     "name": "stdout",
     "output_type": "stream",
     "text": [
      "['Asabeneh Yetayeh', 'David Smith', 'Donald Trump', 'Bill Gates']\n"
     ]
    }
   ],
   "source": [
    "names = [[('Asabeneh', 'Yetayeh')], [('David', 'Smith')], [('Donald', 'Trump')], [('Bill', 'Gates')]]\n",
    "\n",
    "result = [' '.join(name) for [(name)] in names]\n",
    "\n",
    "print(result)"
   ]
  },
  {
   "cell_type": "code",
   "execution_count": 28,
   "metadata": {},
   "outputs": [
    {
     "name": "stdout",
     "output_type": "stream",
     "text": [
      "1.3333333333333333\n"
     ]
    }
   ],
   "source": [
    "slope = lambda x1, y1, x2, y2: (y2 - y1) / (x2 - x1) if x2 != x1 else None\n",
    "print(slope(2, 3, 5, 7)) "
   ]
  },
  {
   "cell_type": "code",
   "execution_count": 29,
   "metadata": {},
   "outputs": [
    {
     "name": "stdout",
     "output_type": "stream",
     "text": [
      "0.3333333333333335\n"
     ]
    }
   ],
   "source": [
    "y_intercept = lambda x, y, m: y - m * x\n",
    "m = slope(2, 3, 5, 7)  # Calculate slope first\n",
    "print(y_intercept(2, 3, m)) "
   ]
  }
 ],
 "metadata": {
  "kernelspec": {
   "display_name": "Python 3",
   "language": "python",
   "name": "python3"
  },
  "language_info": {
   "codemirror_mode": {
    "name": "ipython",
    "version": 3
   },
   "file_extension": ".py",
   "mimetype": "text/x-python",
   "name": "python",
   "nbconvert_exporter": "python",
   "pygments_lexer": "ipython3",
   "version": "3.13.2"
  }
 },
 "nbformat": 4,
 "nbformat_minor": 2
}
