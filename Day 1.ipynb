{
 "cells": [
  {
   "cell_type": "code",
   "execution_count": null,
   "metadata": {},
   "outputs": [
    {
     "name": "stdout",
     "output_type": "stream",
     "text": [
      "7\n",
      "1\n",
      "12\n",
      "1.3333333333333333\n",
      "1\n",
      "64\n",
      "1\n"
     ]
    }
   ],
   "source": []
  },
  {
   "cell_type": "code",
   "execution_count": null,
   "metadata": {},
   "outputs": [
    {
     "name": "stdout",
     "output_type": "stream",
     "text": [
      "John Doe\n",
      "USA\n",
      "New York\n",
      "25\n",
      "I am enjoying 30 days of python\n"
     ]
    }
   ],
   "source": []
  },
  {
   "cell_type": "code",
   "execution_count": null,
   "metadata": {},
   "outputs": [
    {
     "name": "stdout",
     "output_type": "stream",
     "text": [
      "<class 'int'>\n",
      "<class 'float'>\n",
      "<class 'complex'>\n",
      "<class 'str'>\n",
      "<class 'str'>\n",
      "<class 'str'>\n",
      "<class 'int'>\n",
      "<class 'str'>\n"
     ]
    }
   ],
   "source": []
  },
  {
   "cell_type": "code",
   "execution_count": null,
   "metadata": {},
   "outputs": [
    {
     "name": "stdout",
     "output_type": "stream",
     "text": [
      "Euclidean distance: 9.433981132056603\n"
     ]
    }
   ],
   "source": []
  },
  {
   "cell_type": "code",
   "execution_count": null,
   "metadata": {},
   "outputs": [
    {
     "name": "stdout",
     "output_type": "stream",
     "text": [
      "John Doe\n",
      "2\n",
      "2\n",
      "2\n"
     ]
    }
   ],
   "source": []
  },
  {
   "cell_type": "code",
   "execution_count": null,
   "metadata": {},
   "outputs": [
    {
     "name": "stdout",
     "output_type": "stream",
     "text": [
      "8.8\n",
      "246\n"
     ]
    }
   ],
   "source": []
  },
  {
   "cell_type": "code",
   "execution_count": null,
   "metadata": {},
   "outputs": [
    {
     "name": "stdout",
     "output_type": "stream",
     "text": [
      "15.75\n"
     ]
    }
   ],
   "source": []
  },
  {
   "cell_type": "code",
   "execution_count": null,
   "metadata": {},
   "outputs": [
    {
     "name": "stdout",
     "output_type": "stream",
     "text": [
      "<class 'str'>\n",
      "<class 'str'>\n",
      "<class 'str'>\n",
      "<class 'str'>\n",
      "<class 'str'>\n",
      "<class 'int'>\n",
      "<class 'int'>\n",
      "<class 'bool'>\n",
      "<class 'bool'>\n",
      "<class 'bool'>\n",
      "<class 'int'>\n",
      "<class 'int'>\n",
      "<class 'int'>\n",
      "4\n",
      "3\n",
      "8\n",
      "True\n",
      "False\n",
      "False\n",
      "True\n"
     ]
    }
   ],
   "source": []
  },
  {
   "cell_type": "code",
   "execution_count": null,
   "metadata": {},
   "outputs": [
    {
     "name": "stdout",
     "output_type": "stream",
     "text": [
      "9\n",
      "1\n",
      "20\n",
      "1.25\n",
      "1\n",
      "625\n",
      "1\n"
     ]
    }
   ],
   "source": [
    "\n"
   ]
  },
  {
   "cell_type": "code",
   "execution_count": null,
   "metadata": {},
   "outputs": [
    {
     "name": "stdout",
     "output_type": "stream",
     "text": [
      "I hope everyone is enjoying the python challenge.\n",
      "Are you ?\n",
      "Days\tTopics\tExercises\n",
      "Day 1\t5\t5\n",
      "Day 2\t6\t20\n",
      "Day 3\t5\t23\n",
      "Day 4\t1\t35\n",
      "This is a backslash symbol (\\)\n"
     ]
    }
   ],
   "source": []
  },
  {
   "cell_type": "code",
   "execution_count": null,
   "metadata": {},
   "outputs": [
    {
     "name": "stdout",
     "output_type": "stream",
     "text": [
      "I am Emma Deo. I teach python\n"
     ]
    }
   ],
   "source": []
  },
  {
   "cell_type": "code",
   "execution_count": null,
   "metadata": {},
   "outputs": [
    {
     "name": "stdout",
     "output_type": "stream",
     "text": [
      "The area of circle with a radius 10 is 314.00.\n"
     ]
    }
   ],
   "source": []
  },
  {
   "cell_type": "code",
   "execution_count": null,
   "metadata": {},
   "outputs": [
    {
     "name": "stdout",
     "output_type": "stream",
     "text": [
      "['Thirty', 'days', 'of', 'python']\n",
      "['Thirty days of python']\n"
     ]
    }
   ],
   "source": []
  },
  {
   "cell_type": "code",
   "execution_count": null,
   "metadata": {},
   "outputs": [
    {
     "name": "stdout",
     "output_type": "stream",
     "text": [
      "Thirty days of py\n"
     ]
    }
   ],
   "source": []
  },
  {
   "cell_type": "code",
   "execution_count": null,
   "metadata": {},
   "outputs": [
    {
     "name": "stdout",
     "output_type": "stream",
     "text": [
      "cODING fOR aLL\n"
     ]
    }
   ],
   "source": []
  },
  {
   "cell_type": "code",
   "execution_count": null,
   "metadata": {},
   "outputs": [
    {
     "name": "stdout",
     "output_type": "stream",
     "text": [
      "Thirty Days Of Python\n"
     ]
    }
   ],
   "source": []
  },
  {
   "cell_type": "code",
   "execution_count": null,
   "metadata": {},
   "outputs": [
    {
     "name": "stdout",
     "output_type": "stream",
     "text": [
      "Name\tAge\tCountry\tCity\n",
      "Emmanuel\t20\tUganda\tKampala\n"
     ]
    }
   ],
   "source": []
  },
  {
   "cell_type": "code",
   "execution_count": null,
   "metadata": {},
   "outputs": [
    {
     "name": "stdout",
     "output_type": "stream",
     "text": [
      "I am enjoying this challenge\n",
      "\n",
      "I just wonder what is next\n"
     ]
    }
   ],
   "source": []
  },
  {
   "cell_type": "code",
   "execution_count": null,
   "metadata": {},
   "outputs": [
    {
     "name": "stdout",
     "output_type": "stream",
     "text": [
      "HTML CSS JavaScript React\n"
     ]
    }
   ],
   "source": []
  },
  {
   "cell_type": "code",
   "execution_count": 9,
   "metadata": {},
   "outputs": [
    {
     "name": "stdout",
     "output_type": "stream",
     "text": [
      "314.1592653589793\n",
      "62.83185307179586\n"
     ]
    }
   ],
   "source": [
    "import math\n",
    "\n",
    "# radius of a circle and its area\n",
    "radius = 10\n",
    "area_of_circle = float(math.pi * radius ** 2)\n",
    "circum_of_circle = 2 * math.pi * radius\n",
    "print(area_of_circle)\n",
    "print(circum_of_circle)\n"
   ]
  },
  {
   "cell_type": "code",
   "execution_count": 10,
   "metadata": {},
   "outputs": [
    {
     "name": "stdout",
     "output_type": "stream",
     "text": [
      "88.24733763933729\n"
     ]
    }
   ],
   "source": [
    "# User input\n",
    "radius = float(input(\"Enter the radius of the circle: \"))\n",
    "area_of_circle = math.pi * radius ** 2\n",
    "print(area_of_circle)"
   ]
  },
  {
   "cell_type": "code",
   "execution_count": 11,
   "metadata": {},
   "outputs": [
    {
     "name": "stdout",
     "output_type": "stream",
     "text": [
      "John\n",
      "Deo\n",
      "USA\n",
      "20\n"
     ]
    }
   ],
   "source": [
    "#User input\n",
    "first_name = input(\"Enter your first name: \")\n",
    "last_name = input(\"Enter your last name: \")\n",
    "country = input(\"Enter your country: \")\n",
    "age = input(\"Enter your age: \")\n",
    "print(first_name)\n",
    "print(last_name)\n",
    "print(country)\n",
    "print(age)"
   ]
  },
  {
   "cell_type": "code",
   "execution_count": null,
   "metadata": {},
   "outputs": [
    {
     "name": "stdout",
     "output_type": "stream",
     "text": [
      "Fruits: ['apple', 'banana', 'cherry']\n",
      "Number of fruits: 3\n",
      "Vegetables: ['carrot', 'broccoli', 'spinach']\n",
      "Number of vegetables: 3\n",
      "Animal products: ['milk', 'cheese', 'yogurt']\n",
      "Number of animal products: 3\n",
      "Web technologies: ['HTML', 'CSS', 'JavaScript', 'React']\n",
      "Number of web technologies: 4\n",
      "Countries: ['USA', 'Canada', 'Germany']\n",
      "Number of countries: 3\n"
     ]
    }
   ],
   "source": [
    "\n"
   ]
  },
  {
   "cell_type": "code",
   "execution_count": null,
   "metadata": {},
   "outputs": [
    {
     "name": "stdout",
     "output_type": "stream",
     "text": [
      "item1\n",
      "item2\n",
      "item3\n",
      "['item4', 'item5']\n"
     ]
    }
   ],
   "source": []
  },
  {
   "cell_type": "code",
   "execution_count": null,
   "metadata": {},
   "outputs": [],
   "source": [
    "# A simple Expense tracker"
   ]
  },
  {
   "cell_type": "code",
   "execution_count": 3,
   "metadata": {},
   "outputs": [
    {
     "name": "stdout",
     "output_type": "stream",
     "text": [
      "Collecting pandas\n",
      "  Downloading pandas-2.2.3-cp313-cp313-win_amd64.whl.metadata (19 kB)\n",
      "Collecting numpy>=1.26.0 (from pandas)\n",
      "  Downloading numpy-2.2.3-cp313-cp313-win_amd64.whl.metadata (60 kB)\n",
      "Requirement already satisfied: python-dateutil>=2.8.2 in c:\\users\\admin\\appdata\\roaming\\python\\python313\\site-packages (from pandas) (2.9.0.post0)\n",
      "Collecting pytz>=2020.1 (from pandas)\n",
      "  Downloading pytz-2025.1-py2.py3-none-any.whl.metadata (22 kB)\n",
      "Collecting tzdata>=2022.7 (from pandas)\n",
      "  Downloading tzdata-2025.1-py2.py3-none-any.whl.metadata (1.4 kB)\n",
      "Requirement already satisfied: six>=1.5 in c:\\users\\admin\\appdata\\roaming\\python\\python313\\site-packages (from python-dateutil>=2.8.2->pandas) (1.17.0)\n",
      "Downloading pandas-2.2.3-cp313-cp313-win_amd64.whl (11.5 MB)\n",
      "   ---------------------------------------- 0.0/11.5 MB ? eta -:--:--\n",
      "   ---------------------------------------- 0.0/11.5 MB ? eta -:--:--\n",
      "    --------------------------------------- 0.3/11.5 MB ? eta -:--:--\n",
      "   --- ------------------------------------ 1.0/11.5 MB 2.3 MB/s eta 0:00:05\n",
      "   ---------- ----------------------------- 2.9/11.5 MB 4.5 MB/s eta 0:00:02\n",
      "   ------------------- -------------------- 5.5/11.5 MB 6.6 MB/s eta 0:00:01\n",
      "   --------------------- ------------------ 6.3/11.5 MB 7.2 MB/s eta 0:00:01\n",
      "   ------------------------------------ --- 10.5/11.5 MB 8.6 MB/s eta 0:00:01\n",
      "   ---------------------------------------- 11.5/11.5 MB 8.3 MB/s eta 0:00:00\n",
      "Downloading numpy-2.2.3-cp313-cp313-win_amd64.whl (12.6 MB)\n",
      "   ---------------------------------------- 0.0/12.6 MB ? eta -:--:--\n",
      "   ------- -------------------------------- 2.4/12.6 MB 25.0 MB/s eta 0:00:01\n",
      "   ------------------- -------------------- 6.0/12.6 MB 16.4 MB/s eta 0:00:01\n",
      "   ------------------------------------ --- 11.5/12.6 MB 18.9 MB/s eta 0:00:01\n",
      "   ---------------------------------------- 12.6/12.6 MB 18.4 MB/s eta 0:00:00\n",
      "Downloading pytz-2025.1-py2.py3-none-any.whl (507 kB)\n",
      "Downloading tzdata-2025.1-py2.py3-none-any.whl (346 kB)\n",
      "Installing collected packages: pytz, tzdata, numpy, pandas\n",
      "Successfully installed numpy-2.2.3 pandas-2.2.3 pytz-2025.1 tzdata-2025.1\n",
      "Note: you may need to restart the kernel to use updated packages.\n"
     ]
    },
    {
     "name": "stderr",
     "output_type": "stream",
     "text": [
      "\n",
      "[notice] A new release of pip is available: 24.3.1 -> 25.0.1\n",
      "[notice] To update, run: python.exe -m pip install --upgrade pip\n"
     ]
    }
   ],
   "source": [
    "# Import the libraries.\n",
    "\n",
    "\n",
    "import numpy as np\n",
    "import pandas as pd\n",
    "from datetime import datetime"
   ]
  },
  {
   "cell_type": "code",
   "execution_count": 1,
   "metadata": {},
   "outputs": [],
   "source": [
    "# Create Empty lists.\n",
    "Goods_OR_SERVICES = []\n",
    "Amount = []\n",
    "Dates = []\n",
    "EXPENSE_TYPE = []"
   ]
  },
  {
   "cell_type": "code",
   "execution_count": 4,
   "metadata": {},
   "outputs": [],
   "source": [
    "# Create a function to add the expenses to the lists and organize the data.\n",
    "def add_expense(good_or_service, amount, expense_type):\n",
    "    Amount.append(amount)\n",
    "    Goods_OR_SERVICES.append(good_or_service)\n",
    "    Dates.append(datetime.now())\n",
    "    EXPENSE_TYPE.append(expense_type)\n"
   ]
  },
  {
   "cell_type": "code",
   "execution_count": 7,
   "metadata": {},
   "outputs": [
    {
     "name": "stdout",
     "output_type": "stream",
     "text": [
      "Welcome to the simple expense tracker\n",
      "1. Add food expense\n",
      "2. Add household expenses\n",
      "3. Add transportation expenses\n",
      "4. Add entertainment expenses\n",
      "5. Add education expenses\n",
      "6. Add health expenses\n",
      "7. Add personal expenses\n",
      "0. Exit\n",
      "\n",
      "Exiting the program\n"
     ]
    }
   ],
   "source": [
    "# main program\n",
    "option = -1 # This will be the users option or choice.\n",
    "while (option != 0):\n",
    "    # create a menu for the user.\n",
    "    print('Welcome to the simple expense tracker')\n",
    "    print(\"1. Add food expense\")\n",
    "    print(\"2. Add household expenses\")\n",
    "    print(\"3. Add transportation expenses\")\n",
    "    print(\"4. Add entertainment expenses\")\n",
    "    print(\"5. Add education expenses\")\n",
    "    print(\"6. Add health expenses\")\n",
    "    print(\"7. Add personal expenses\")\n",
    "    print('0. Exit')\n",
    "    option = int(input('choose an option:\\n'))\n",
    "\n",
    "    # print a new line\n",
    "    print()\n",
    "    # check for the users choice or option .\n",
    "    if option == 0:\n",
    "        print('Exiting the program')\n",
    "        break\n",
    "    elif option == 1:\n",
    "        print('Adding food')\n",
    "        EXPENSE_TYPE = 'Food'\n",
    "    elif option == 2:\n",
    "        print('Adding household expenses')\n",
    "        EXPENSE_TYPE = 'Household'\n",
    "    elif option == 3:\n",
    "        print('Adding transportation expenses')\n",
    "        EXPENSE_TYPE = 'Transportation'\n",
    "    elif option == 4:\n",
    "        print('Adding entertainment expenses')\n",
    "        EXPENSE_TYPE = 'Entertainment'\n",
    "    elif option == 5:\n",
    "        print('Adding education expenses')\n",
    "        EXPENSE_TYPE = 'Education'\n",
    "    elif option == 6:\n",
    "        print('Adding health expenses')\n",
    "        EXPENSE_TYPE = 'Health'\n",
    "    elif option == 7:\n",
    "        print('Adding personal expenses')\n",
    "        EXPENSE_TYPE = 'Personal'\n",
    "\n",
    "        # Ceate a data frame and add the expenses.\n",
    "        expense_report = pd.DataFrame()\n",
    "        expense_report['Goods_OR_SERVICES'] = Goods_OR_SERVICES\n",
    "        expense_report['Amount'] = Amount\n",
    "        expense_report['Dates'] = Dates\n",
    "        expense_report['EXPENSE_TYPE'] = EXPENSE_TYPE\n",
    "\n",
    "        # Save the data frame to a csv file.\n",
    "        expense_report.to_csv('expense_report.csv')\n",
    "        # show the user that the expenses have been saved.\n",
    "        print(expense_report)\n",
    "    else:\n",
    "        print('You chose an incorrect option. Please choose 0, 1, 2, 3, 4, 5, 6, or 7')\n",
    "\n",
    "        # Allow the user to enter the good or servise and the amount.\n",
    "        if option == 1 or option == 2 or option == 3 or option == 4 or option == 5 or option == 6 or option == 7:\n",
    "            Goods_OR_SERVICES == input('Enter the good or service for the expense type '+expense_type+':\\n')\n",
    "            amount = float(input('Enter the amount of the good or service:\\n'))\n",
    "            today = date.today()\n",
    "            add_expense(good_or_service, amount,today,expense_type)\n",
    "            # print a new line\n",
    "            print()\n",
    "            \n",
    "\n",
    "\n",
    "\n",
    "\n",
    "\n"
   ]
  },
  {
   "cell_type": "code",
   "execution_count": null,
   "metadata": {},
   "outputs": [
    {
     "name": "stdout",
     "output_type": "stream",
     "text": [
      "\n",
      "Expense Tracker Application\n",
      "1. Add Expense\n",
      "2. View Expense\n",
      "3. Exit\n",
      "No expense found\n",
      "\n",
      "Expense Tracker Application\n",
      "1. Add Expense\n",
      "2. View Expense\n",
      "3. Exit\n",
      "Expense added successfully!\n",
      "\n",
      "Expense Tracker Application\n",
      "1. Add Expense\n",
      "2. View Expense\n",
      "3. Exit\n",
      "Exiting the Expense Tracker Application.\n",
      "\n",
      "Expense Tracker Application\n",
      "1. Add Expense\n",
      "2. View Expense\n",
      "3. Exit\n",
      "ID  | Amount  | Category  | Description                 | Date\n",
      "---------------------------------------------------------\n",
      "1   | $345.00  | Food            | Daily meal                  | 2025-03-09\n",
      "\n",
      "Expense Tracker Application\n",
      "1. Add Expense\n",
      "2. View Expense\n",
      "3. Exit\n",
      "ID  | Amount  | Category  | Description                 | Date\n",
      "---------------------------------------------------------\n",
      "1   | $345.00  | Food            | Daily meal                  | 2025-03-09\n",
      "\n",
      "Expense Tracker Application\n",
      "1. Add Expense\n",
      "2. View Expense\n",
      "3. Exit\n",
      "ID  | Amount  | Category  | Description                 | Date\n",
      "---------------------------------------------------------\n",
      "1   | $345.00  | Food            | Daily meal                  | 2025-03-09\n",
      "\n",
      "Expense Tracker Application\n",
      "1. Add Expense\n",
      "2. View Expense\n",
      "3. Exit\n",
      "Expense added successfully!\n",
      "\n",
      "Expense Tracker Application\n",
      "1. Add Expense\n",
      "2. View Expense\n",
      "3. Exit\n",
      "ID  | Amount  | Category  | Description                 | Date\n",
      "---------------------------------------------------------\n",
      "1   | $345.00  | Food            | Daily meal                  | 2025-03-09\n",
      "2   | $23.00   | Electricity     | Electricity bill            | 2025-03-09\n",
      "\n",
      "Expense Tracker Application\n",
      "1. Add Expense\n",
      "2. View Expense\n",
      "3. Exit\n"
     ]
    }
   ],
   "source": [
    "import sqlite3\n",
    "from datetime import datetime\n",
    "\n",
    "#create or connect to the expense tracker database\n",
    "conn = sqlite3.connect('myexpense_tracker.db')\n",
    "c = conn.cursor()\n",
    "\n",
    "#Create the expenses table if it doesn't exist\n",
    "c.execute('''\n",
    "    CREATE TABLE IF NOT EXISTS expenses(\n",
    "        id INTEGER PRIMARY KEY AUTOINCREMENT,\n",
    "          amount REAL,\n",
    "          category TEXT,\n",
    "          description TEXT,\n",
    "          date DATE \n",
    "    )\n",
    "''')\n",
    "\n",
    "conn.commit()\n",
    "\n",
    "def add_expense(amount, category, description):\n",
    "    #Get the current date\n",
    "    date = datetime.now().strftime('%Y-%m-%d')\n",
    "\n",
    "    #Insert the expense into the database\n",
    "    c.execute('INSERT INTO expenses(amount, category, description, date) VALUES (?, ?, ?, ?)',\n",
    "              (amount, category, description, date))\n",
    "    conn.commit()\n",
    "    print(\"Expense added successfully!\")\n",
    "\n",
    "def view_expenses():\n",
    "    #Fetch all the expenses from the database\n",
    "    c.execute('SELECT * FROM expenses ORDER BY date')\n",
    "    expenses = c.fetchall()\n",
    "\n",
    "    #Display the expenses\n",
    "    if expenses:\n",
    "        print(\"ID  | Amount  | Category  | Description                 | Date\")\n",
    "        print(\"---------------------------------------------------------\")\n",
    "        for expense in expenses:\n",
    "            print(\n",
    "                f\"{expense[0]:<3} | ${expense[1]:<7.2f} | {expense[2]:<15} | {expense[3]:<27} | {expense[4]}\"\n",
    "            )\n",
    "    else:\n",
    "        print(\"No expense found\")\n",
    "\n",
    "def main():\n",
    "    while True:\n",
    "        print(\"\\nExpense Tracker Application\")\n",
    "        print(\"1. Add Expense\")\n",
    "        print(\"2. View Expense\")\n",
    "        print(\"3. Exit\")\n",
    "\n",
    "        choice = input(\"Enter your choice (1/2/3): \")\n",
    "\n",
    "        if choice == '1':\n",
    "            amount = float(input(\"Enter the amount spent: $\"))\n",
    "            category = input(\"Enter the category: \")\n",
    "            description = input(\"Enter a brief description: \")\n",
    "            add_expense(amount, category, description)\n",
    "\n",
    "        elif choice == '2':\n",
    "            view_expenses()\n",
    "\n",
    "        elif choice == '3':\n",
    "            print(\"Exiting the Expense Tracker Application.\")\n",
    "            break\n",
    "        else:\n",
    "            print(\"Invalid choice. Please try again.\")\n",
    "\n",
    "if __name__ == \"__main__\":\n",
    "    main()\n",
    "\n",
    "#Close the database connection when the application exists\n",
    "conn.close()\n",
    "from datetime import datetime\n",
    "\n",
    "#create or connect to the expense tracker database\n",
    "conn = sqlite3.connect('myexpense_tracker.db')\n",
    "c = conn.cursor()\n",
    "\n",
    "#Create the expenses table if it doesn't exist\n",
    "c.execute('''\n",
    "    CREATE TABLE IF NOT EXISTS expenses(\n",
    "        id INTEGER PRIMARY KEY AUTOINCREMENT,\n",
    "          amount REAL,\n",
    "          category TEXT,\n",
    "          description TEXT,\n",
    "          date DATE \n",
    "    )\n",
    "''')\n",
    "\n",
    "conn.commit()\n",
    "\n",
    "def add_expense(amount, category, description):\n",
    "    #Get the current date\n",
    "    date = datetime.now().strftime('%Y-%m-%d')\n",
    "\n",
    "    #Insert the expense into the database\n",
    "    c.execute('INSERT INTO expenses(amount, category, description, date) VALUES (?, ?, ?, ?)',\n",
    "              (amount, category, description, date))\n",
    "    conn.commit()\n",
    "    print(\"Expense added successfully!\")\n",
    "\n",
    "def view_expenses():\n",
    "    #Fetch all the expenses from the database\n",
    "    c.execute('SELECT * FROM expenses ORDER BY date')\n",
    "    expenses = c.fetchall()\n",
    "\n",
    "    #Display the expenses\n",
    "    if expenses:\n",
    "        print(\"ID  | Amount  | Category  | Description                 | Date\")\n",
    "        print(\"---------------------------------------------------------\")\n",
    "        for expense in expenses:\n",
    "            print(\n",
    "                f\"{expense[0]:<3} | ${expense[1]:<7.2f} | {expense[2]:<15} | {expense[3]:<27} | {expense[4]}\"\n",
    "            )\n",
    "    else:\n",
    "        print(\"No expense found\")\n",
    "\n",
    "def main():\n",
    "    while True:\n",
    "        print(\"\\nExpense Tracker Application\")\n",
    "        print(\"1. Add Expense\")\n",
    "        print(\"2. View Expense\")\n",
    "        print(\"3. Exit\")\n",
    "\n",
    "        choice = input(\"Enter your choice (1/2/3): \")\n",
    "\n",
    "        if choice == '1':\n",
    "            amount = float(input(\"Enter the amount spent: $\"))\n",
    "            category = input(\"Enter the category: \")\n",
    "            description = input(\"Enter a brief description: \")\n",
    "            add_expense(amount, category, description)\n",
    "\n",
    "        elif choice == '2':\n",
    "            view_expenses()\n",
    "\n",
    "        elif choice == '3':\n",
    "            print(\"Exiting the Expense Tracker Application.\")\n",
    "            break\n",
    "        else:\n",
    "            print(\"Invalid choice. Please try again.\")\n",
    "\n",
    "if __name__ == \"__main__\":\n",
    "    main()\n",
    "\n",
    "#Close the database connection when the application exists\n",
    "conn.close()\n",
    "2"
   ]
  },
  {
   "cell_type": "code",
   "execution_count": 2,
   "metadata": {},
   "outputs": [
    {
     "name": "stdout",
     "output_type": "stream",
     "text": [
      "('apple', 'banana', 'cherry')\n",
      "3\n"
     ]
    }
   ],
   "source": [
    "#Tuple creation.\n",
    "thistuple=(\"apple\", \"banana\", \"cherry\")\n",
    "print(thistuple)\n",
    "print(len(thistuple))"
   ]
  },
  {
   "cell_type": "code",
   "execution_count": 3,
   "metadata": {},
   "outputs": [
    {
     "name": "stdout",
     "output_type": "stream",
     "text": [
      "('apple',)\n"
     ]
    }
   ],
   "source": [
    "thistuple=(\"apple\",)\n",
    "print(thistuple)"
   ]
  },
  {
   "cell_type": "code",
   "execution_count": 8,
   "metadata": {},
   "outputs": [
    {
     "name": "stdout",
     "output_type": "stream",
     "text": [
      "cherry\n",
      "apple\n",
      "banana\n",
      "banana\n"
     ]
    }
   ],
   "source": [
    "thistuple=(\"apple\", \"banana\", \"cherry\")\n",
    "print(thistuple[-1])\n",
    "print(thistuple[0])\n",
    "print(thistuple[1])\n",
    "print(thistuple[1])"
   ]
  },
  {
   "cell_type": "code",
   "execution_count": 9,
   "metadata": {},
   "outputs": [
    {
     "name": "stdout",
     "output_type": "stream",
     "text": [
      "('cherry', 'orange', 'kiwi')\n",
      "('apple', 'banana', 'cherry', 'orange')\n"
     ]
    }
   ],
   "source": [
    "thistuple=(\"apple\", \"banana\", \"cherry\", \"orange\", \"kiwi\", \"melon\", \"mango\")\n",
    "print(thistuple[2:5])\n",
    "print(thistuple[:4])"
   ]
  },
  {
   "cell_type": "code",
   "execution_count": 13,
   "metadata": {},
   "outputs": [
    {
     "name": "stdout",
     "output_type": "stream",
     "text": [
      "('apple', 'kiwi', 'Grape')\n",
      "('apple', 'kiwi', 'cherry', 'mango')\n"
     ]
    }
   ],
   "source": [
    "x=(\"apple\", \"banana\", \"cherry\")\n",
    "y=list(x)\n",
    "y[1:4]=\"kiwi\", \"Grape\"\n",
    "x=tuple(y)\n",
    "print(x)\n",
    "z=(\"apple\", \"kiwi\", \"cherry\")\n",
    "k=list(z)\n",
    "k.append(\"mango\")\n",
    "z=tuple(k)\n",
    "print(z)"
   ]
  },
  {
   "cell_type": "markdown",
   "metadata": {},
   "source": []
  },
  {
   "cell_type": "markdown",
   "metadata": {},
   "source": [
    "Adding a tuple to another tuple\n"
   ]
  },
  {
   "cell_type": "code",
   "execution_count": 17,
   "metadata": {},
   "outputs": [
    {
     "name": "stdout",
     "output_type": "stream",
     "text": [
      "('apple', 'banana', 'cherry', 'orange')\n"
     ]
    }
   ],
   "source": [
    "thistuple=(\"apple\", \"banana\", \"cherry\")\n",
    "y=(\"orange\",)\n",
    "thistuple += y\n",
    "print(thistuple)"
   ]
  },
  {
   "cell_type": "code",
   "execution_count": 19,
   "metadata": {},
   "outputs": [
    {
     "name": "stdout",
     "output_type": "stream",
     "text": [
      "('banana', 'cherry')\n"
     ]
    }
   ],
   "source": [
    "thistuple=(\"apple\", \"banana\", \"cherry\")\n",
    "y=list(thistuple)\n",
    "y.remove(\"apple\")\n",
    "thistuple=tuple(y)\n",
    "print(thistuple)"
   ]
  },
  {
   "cell_type": "code",
   "execution_count": null,
   "metadata": {},
   "outputs": [
    {
     "ename": "NameError",
     "evalue": "name 'thistuple' is not defined",
     "output_type": "error",
     "traceback": [
      "\u001b[31m---------------------------------------------------------------------------\u001b[39m",
      "\u001b[31mNameError\u001b[39m                                 Traceback (most recent call last)",
      "\u001b[36mCell\u001b[39m\u001b[36m \u001b[39m\u001b[32mIn[20]\u001b[39m\u001b[32m, line 3\u001b[39m\n\u001b[32m      1\u001b[39m thistuple=(\u001b[33m'\u001b[39m\u001b[33mapple\u001b[39m\u001b[33m'\u001b[39m, \u001b[33m'\u001b[39m\u001b[33mbanana\u001b[39m\u001b[33m'\u001b[39m)\n\u001b[32m      2\u001b[39m \u001b[38;5;28;01mdel\u001b[39;00m thistuple\n\u001b[32m----> \u001b[39m\u001b[32m3\u001b[39m \u001b[38;5;28mprint\u001b[39m(\u001b[43mthistuple\u001b[49m)\n",
      "\u001b[31mNameError\u001b[39m: name 'thistuple' is not defined"
     ]
    }
   ],
   "source": [
    "thistuple=('apple', 'banana')\n",
    "del thistuple\n",
    "print(thistuple)   #This will give an error, because the tuple has been deleted."
   ]
  },
  {
   "cell_type": "code",
   "execution_count": null,
   "metadata": {},
   "outputs": [],
   "source": []
  },
  {
   "cell_type": "markdown",
   "metadata": {},
   "source": [
    "Assignment."
   ]
  },
  {
   "cell_type": "code",
   "execution_count": 12,
   "metadata": {},
   "outputs": [
    {
     "name": "stdout",
     "output_type": "stream",
     "text": [
      "Monkey\n",
      "Leopard\n",
      "('Lion', 'Monkey', 'Dog', 'Leopard', 'Cat', 'Rat', 'Crocodile', 'Hippopotamus')\n",
      "('Lion', 'Monkey', 'Dog', 'Leopard', 'Cat', 'Rat', 'Crocodile', 'Hippopotamus', 'Mango')\n",
      "9\n",
      "Leopard is present in the tuple.\n",
      "Lion\n",
      "Monkey\n",
      "Dog\n",
      "Leopard\n",
      "Cat\n",
      "Rat\n",
      "Crocodile\n",
      "Hippopotamus\n",
      "Mango\n"
     ]
    }
   ],
   "source": [
    "# Creating a tuple.\n",
    "thistuple=('Lion', 'Monkey', 'Dog', 'Leopard', 'Cat')\n",
    "print(thistuple[1]) # Second element\n",
    "print(thistuple[3]) # Fourth element.\n",
    "# Creating new tuple and concatenating with the orignal tuple.\n",
    "new_tuple=('Rat', 'Crocodile', 'Hippopotamus')\n",
    "combined_tuple=thistuple+new_tuple\n",
    "print(combined_tuple)\n",
    "\n",
    "# Converting combined tuple to list.\n",
    "# Let y=converted list and x=new converted tuple after adding the fruit.\n",
    "y=list(combined_tuple)\n",
    "y.append('Mango')\n",
    "x=tuple(y)\n",
    "print(x)\n",
    "print(len(x))  #Finding the length of updated tuple called x.\n",
    "\n",
    "# To check a specific item whether present in the updated tuple.\n",
    "item_to_check='Leopard'\n",
    "# check if leopard is present in the tuple or not.\n",
    "\n",
    "if item_to_check in x:\n",
    "  print(f\"{item_to_check} is present in the tuple.\")\n",
    "else:\n",
    "  print(f\"{item_to_check} is Not present in the tuple.\")\n",
    "\n",
    "# To iterate through the tuple and printing every item in the tuple.\n",
    "x = ('Lion', 'Monkey', 'Dog', 'Leopard', 'Cat', 'Rat', 'Crocodile', 'Hippopotamus', 'Mango')\n",
    "for item in x:\n",
    "    print(item)"
   ]
  },
  {
   "cell_type": "code",
   "execution_count": null,
   "metadata": {},
   "outputs": [
    {
     "name": "stdout",
     "output_type": "stream",
     "text": [
      "<class 'tuple'>\n",
      "Lion\n",
      "Monkey\n",
      "Dog\n",
      "(('apple', 'banana', 'cherry'), ('Lion', 'Tiger', 'Leopard'))\n",
      "Tiger\n",
      "apple\n",
      "Leopard\n",
      "(('apple', 'banana', 'cherry'), ('Lion', 'Tiger', 'Leopard'), ('apple', 'banana', 'cherry'), ('Lion', 'Tiger', 'Leopard'), ('apple', 'banana', 'cherry'), ('Lion', 'Tiger', 'Leopard'))\n",
      "(('apple', 'cherry'), ('Lion', 'Leopard'))\n"
     ]
    }
   ],
   "source": [
    "# Creation of tuple with single element.\n",
    "my_tuple=('John',)\n",
    "print(type(my_tuple))\n",
    "\n",
    "# Unpacking the updated tuple called x\n",
    "x = ('Lion', 'Monkey', 'Dog', 'Leopard', 'Cat', 'Rat', 'Crocodile', 'Hippopotamus', 'Mango')\n",
    "# unpacking the first three elements.\n",
    "p, q, r = x[:3]\n",
    "print(p)\n",
    "print(q)\n",
    "print(r)\n",
    "\n",
    "# Creation fo nested tuple.\n",
    "nested_tuple=(('apple', 'banana', 'cherry'), ('Lion', 'Tiger', 'Leopard'))\n",
    "print(nested_tuple)\n",
    "# Accessing the element from the nested tuple.\n",
    "inner_element=nested_tuple[1][1]\n",
    "print(inner_element)\n",
    "# Accessing the first and last element of the tuple.\n",
    "first_element=nested_tuple[0][0]\n",
    "print(first_element)    # This will print the first element of the tuple\n",
    "last_element=nested_tuple[-1][-1]\n",
    "print(last_element)\n",
    "\n",
    "# Creation of the new tuple by repeating the original tuple times 3.\n",
    "new_tuple=nested_tuple*3\n",
    "print(new_tuple)\n",
    "\n",
    "nested_tuple = (('apple', 'banana', 'cherry'), ('Lion', 'Tiger', 'Leopard'))  # Original tuple.\n",
    "\n",
    "# Convert tuple to list\n",
    "nested_list = [list(inner) for inner in nested_tuple]\n",
    "\n",
    "# Remove an item (let's remove 'banana' and 'Tiger' as an example)\n",
    "nested_list[0].remove('banana')\n",
    "nested_list[1].remove('Tiger')\n",
    "\n",
    "# Convert back to tuple\n",
    "updated_tuple = tuple(tuple(inner) for inner in nested_list)\n",
    "\n",
    "# Print updated tuple\n",
    "print(updated_tuple)"
   ]
  },
  {
   "cell_type": "code",
   "execution_count": 6,
   "metadata": {},
   "outputs": [
    {
     "name": "stdout",
     "output_type": "stream",
     "text": [
      "{'banana', 'apple', 'cherry'}\n",
      "banana\n",
      "apple\n",
      "cherry\n"
     ]
    }
   ],
   "source": [
    "# creation of sets.\n",
    "thisset = {'apple', 'banana', 'cherry'}\n",
    "print(thisset)\n",
    "\n",
    "# Iterate through the set and print each element\n",
    "for x in thisset:\n",
    "    print(x)\n"
   ]
  },
  {
   "cell_type": "code",
   "execution_count": null,
   "metadata": {},
   "outputs": [
    {
     "name": "stdout",
     "output_type": "stream",
     "text": [
      "{'banana', 'apple', 'orange', 'cherry'}\n"
     ]
    }
   ],
   "source": [
    "thisset={'banana', 'apple', 'cherry'} # Adding item to a set.\n",
    "thisset.add('orange')\n",
    "print(thisset)"
   ]
  },
  {
   "cell_type": "code",
   "execution_count": 7,
   "metadata": {},
   "outputs": [
    {
     "name": "stdout",
     "output_type": "stream",
     "text": [
      "{'pineaple', 'papaya', 'mango', 'banana', 'apple', 'cherry'}\n"
     ]
    }
   ],
   "source": [
    "# Adding set to another set.\n",
    "thisset = {'apple', 'banana', 'cherry'}\n",
    "tropical={'pineaple', 'mango', 'papaya'}\n",
    "thisset.update(tropical)\n",
    "print(thisset)"
   ]
  },
  {
   "cell_type": "code",
   "execution_count": null,
   "metadata": {},
   "outputs": [
    {
     "name": "stdout",
     "output_type": "stream",
     "text": [
      "{'banana', 'cherry'}\n"
     ]
    },
    {
     "data": {
      "text/plain": [
       "'cherry'"
      ]
     },
     "execution_count": 11,
     "metadata": {},
     "output_type": "execute_result"
    }
   ],
   "source": [
    "# Removing irems from the set.\n",
    "thisset = {'apple', 'banana', 'cherry'}\n",
    "thisset.remove('apple')\n",
    "print(thisset)\n",
    "thisset.discard('banana')\n",
    "\n",
    "\n"
   ]
  },
  {
   "cell_type": "code",
   "execution_count": 12,
   "metadata": {},
   "outputs": [
    {
     "name": "stdout",
     "output_type": "stream",
     "text": [
      "{'apple', 'cherry'}\n"
     ]
    }
   ],
   "source": [
    "thisset = {'apple', 'banana', 'cherry'}\n",
    "thisset.pop()\n",
    "print(thisset)"
   ]
  },
  {
   "cell_type": "code",
   "execution_count": 13,
   "metadata": {},
   "outputs": [
    {
     "name": "stdout",
     "output_type": "stream",
     "text": [
      "set()\n"
     ]
    }
   ],
   "source": [
    "# Using clear method.\n",
    "thisset = {'apple', 'banana', 'cherry'}\n",
    "thisset.clear()\n",
    "print(thisset)\n"
   ]
  },
  {
   "cell_type": "code",
   "execution_count": null,
   "metadata": {},
   "outputs": [
    {
     "ename": "NameError",
     "evalue": "name 'thisset' is not defined",
     "output_type": "error",
     "traceback": [
      "\u001b[31m---------------------------------------------------------------------------\u001b[39m",
      "\u001b[31mNameError\u001b[39m                                 Traceback (most recent call last)",
      "\u001b[36mCell\u001b[39m\u001b[36m \u001b[39m\u001b[32mIn[14]\u001b[39m\u001b[32m, line 4\u001b[39m\n\u001b[32m      2\u001b[39m thisset = {\u001b[33m'\u001b[39m\u001b[33mapple\u001b[39m\u001b[33m'\u001b[39m, \u001b[33m'\u001b[39m\u001b[33mbanana\u001b[39m\u001b[33m'\u001b[39m, \u001b[33m'\u001b[39m\u001b[33mcherry\u001b[39m\u001b[33m'\u001b[39m}\n\u001b[32m      3\u001b[39m \u001b[38;5;28;01mdel\u001b[39;00m thisset\n\u001b[32m----> \u001b[39m\u001b[32m4\u001b[39m \u001b[38;5;28mprint\u001b[39m(\u001b[43mthisset\u001b[49m)\n",
      "\u001b[31mNameError\u001b[39m: name 'thisset' is not defined"
     ]
    }
   ],
   "source": [
    "# Using del method.\n",
    "thisset = {'apple', 'banana', 'cherry'}\n",
    "del thisset\n",
    "print(thisset)  # An error occurs because there is nothing anymore."
   ]
  },
  {
   "cell_type": "code",
   "execution_count": 16,
   "metadata": {},
   "outputs": [
    {
     "name": "stdout",
     "output_type": "stream",
     "text": [
      "{'brand': 'Ford', 'model': 'Mustang', 'year': '1964'}\n",
      "Ford\n"
     ]
    }
   ],
   "source": [
    "# Creation of the dictionaries.\n",
    "thisdict={\n",
    "  'brand':'Ford',\n",
    "  'model':'Mustang',\n",
    "  'year':'1964'\n",
    "}\n",
    "print(thisdict)\n",
    "print(thisdict['brand'])"
   ]
  },
  {
   "cell_type": "code",
   "execution_count": 17,
   "metadata": {},
   "outputs": [
    {
     "name": "stdout",
     "output_type": "stream",
     "text": [
      "{'brand': 'Ford', 'model': 'Mustang', 'year': '2020'}\n"
     ]
    }
   ],
   "source": [
    "thisdict={\n",
    "  'brand':'Ford',\n",
    "  'model':'Mustang',\n",
    "  'year':'1964',\n",
    "  'year':'2020'\n",
    "}\n",
    "print(thisdict)"
   ]
  },
  {
   "cell_type": "code",
   "execution_count": 19,
   "metadata": {},
   "outputs": [
    {
     "name": "stdout",
     "output_type": "stream",
     "text": [
      "3\n"
     ]
    }
   ],
   "source": [
    "# Determination of length of dict.\n",
    "Student={\n",
    "'Name':'Shahid',\n",
    "'Branch':'IT',\n",
    "'Course':'Ph.D'\n",
    "}\n",
    "S=len(Student)\n",
    "print(S)"
   ]
  },
  {
   "cell_type": "code",
   "execution_count": 24,
   "metadata": {},
   "outputs": [
    {
     "name": "stdout",
     "output_type": "stream",
     "text": [
      "['red', 'white', 'blue']\n",
      "['red', 'white', 'blue']\n",
      "{'brand': 'Ford', 'electric': False, 'year': 1964, 'colors': ['red', 'white', 'blue']}\n",
      "dict_keys(['brand', 'electric', 'year', 'colors'])\n",
      "dict_keys(['brand', 'electric', 'year', 'colors'])\n"
     ]
    }
   ],
   "source": [
    "thisdict={\n",
    "  'brand':'Ford',\n",
    "  'electric':False,\n",
    "  'year':1964,\n",
    "  'colors':['red','white','blue']\n",
    "\n",
    "}\n",
    "E=thisdict['colors']\n",
    "print(E)\n",
    "print(thisdict['colors'])\n",
    "print(thisdict)\n",
    "\n",
    "x=thisdict.keys()\n",
    "print(x)\n",
    "thisdict['colors']='white'\n",
    "print(x)"
   ]
  },
  {
   "cell_type": "code",
   "execution_count": null,
   "metadata": {},
   "outputs": [
    {
     "name": "stdout",
     "output_type": "stream",
     "text": [
      "dict_keys(['brand', 'model', 'year'])\n",
      "dict_keys(['brand', 'model', 'year', 'color'])\n",
      "{'brand': 'Ford', 'model': 'swift', 'year': '1964', 'color': 'white'}\n",
      "brand: Ford\n",
      "{'brand': 'Ford', 'model': 'swift', 'year': '1964', 'color': 'white', 'colors': 'red'}\n",
      "{'brand': 'Ford', 'year': '1964', 'color': 'white', 'colors': 'red'}\n",
      "{'brand': 'Ford', 'year': '1964', 'color': 'white', 'colors': 'red'}\n"
     ]
    }
   ],
   "source": [
    "thisdict={\n",
    "  'brand':'Ford',\n",
    "  'model':'Mustang',\n",
    "  'year':'1964'\n",
    "}\n",
    "x=thisdict.keys()\n",
    "print(x)\n",
    "thisdict['color']='white'\n",
    "print(x)\n",
    "thisdict['model']='swift'\n",
    "print(thisdict)\n",
    "\n",
    "# Print only the 'name' key and its value\n",
    "key = 'brand'     \n",
    "if key in thisdict:\n",
    "    print(f\"{key}: {thisdict[key]}\")\n",
    "else:\n",
    "    print(f\"Key '{key}' not found in dictionary.\")\n",
    "\n",
    "    # Updating a dictionary.\n",
    "    print(thisdict)\n",
    "\n",
    "thisdict.update({'colors':'red'})\n",
    "print(thisdict)\n",
    "thisdict.pop('model')  # Removing the key from the dictionary.\n",
    "print(thisdict)\n",
    "\n",
    "newdict=thisdict.copy()  # Making a copy of the dictionary.\n",
    "print(newdict)"
   ]
  },
  {
   "cell_type": "markdown",
   "metadata": {},
   "source": [
    "# if statement."
   ]
  },
  {
   "cell_type": "code",
   "execution_count": null,
   "metadata": {},
   "outputs": [
    {
     "name": "stdout",
     "output_type": "stream",
     "text": [
      "b is greater than a\n"
     ]
    }
   ],
   "source": [
    "a=33\n",
    "b=200\n",
    "if b>a:\n",
    "  print('b is greater than a')\n",
    "\n",
    "\n"
   ]
  },
  {
   "cell_type": "code",
   "execution_count": 1,
   "metadata": {},
   "outputs": [
    {
     "name": "stdout",
     "output_type": "stream",
     "text": [
      "a and b are equal\n"
     ]
    }
   ],
   "source": [
    "# Elif statement\n",
    "\n",
    "a=33\n",
    "b=33\n",
    "if b>a:\n",
    "  print('b is greater than a')\n",
    "elif a==b:\n",
    "  print('a and b are equal')"
   ]
  },
  {
   "cell_type": "code",
   "execution_count": 2,
   "metadata": {},
   "outputs": [
    {
     "name": "stdout",
     "output_type": "stream",
     "text": [
      "a is greater than b\n"
     ]
    }
   ],
   "source": [
    "# Else.\n",
    "a=200\n",
    "b=33\n",
    "if b>a:\n",
    "  print('b is greater than a')\n",
    "elif a==b:\n",
    "  print('a and b are equal')\n",
    "else:\n",
    "  print('a is greater than b')"
   ]
  },
  {
   "cell_type": "code",
   "execution_count": 3,
   "metadata": {},
   "outputs": [
    {
     "name": "stdout",
     "output_type": "stream",
     "text": [
      "a is greater than b\n"
     ]
    }
   ],
   "source": [
    "# Short Hand If\n",
    "a=100\n",
    "b=20\n",
    "if a>b: print('a is greater than b')"
   ]
  },
  {
   "cell_type": "code",
   "execution_count": 4,
   "metadata": {},
   "outputs": [
    {
     "name": "stdout",
     "output_type": "stream",
     "text": [
      "B\n"
     ]
    }
   ],
   "source": [
    "# short hand if...else\n",
    "a=20\n",
    "b=300\n",
    "print('A') if a>b else print('B')"
   ]
  },
  {
   "cell_type": "code",
   "execution_count": null,
   "metadata": {},
   "outputs": [
    {
     "name": "stdout",
     "output_type": "stream",
     "text": [
      "=\n"
     ]
    }
   ],
   "source": [
    "# multiple if statement in the same line.\n",
    "\n",
    "a=330\n",
    "b=330\n",
    "print('A') if a>b else print('=') if a==b else print('B')"
   ]
  },
  {
   "cell_type": "code",
   "execution_count": 2,
   "metadata": {},
   "outputs": [
    {
     "name": "stdout",
     "output_type": "stream",
     "text": [
      "Both conditions are true\n"
     ]
    }
   ],
   "source": [
    "# Using And\n",
    "a=200\n",
    "b=33\n",
    "c=500\n",
    "if a>b and c>a:\n",
    "  print('Both conditions are true')"
   ]
  },
  {
   "cell_type": "code",
   "execution_count": 3,
   "metadata": {},
   "outputs": [
    {
     "name": "stdout",
     "output_type": "stream",
     "text": [
      "At least one of the conditions is true\n"
     ]
    }
   ],
   "source": [
    "# Using Or logical operator.\n",
    "a=200\n",
    "b=33\n",
    "c=500\n",
    "if a>b or a>c:\n",
    "  print('At least one of the conditions is true')"
   ]
  },
  {
   "cell_type": "code",
   "execution_count": 4,
   "metadata": {},
   "outputs": [
    {
     "name": "stdout",
     "output_type": "stream",
     "text": [
      "Above ten\n",
      "and also above 20!\n"
     ]
    }
   ],
   "source": [
    "# Nested if statement.\n",
    "x=41\n",
    "if x>10:\n",
    "  print('Above ten')\n",
    "  if x>20:\n",
    "    print('and also above 20!')\n",
    "  else:\n",
    "    print('but not above 20.')"
   ]
  },
  {
   "cell_type": "code",
   "execution_count": 5,
   "metadata": {},
   "outputs": [
    {
     "name": "stdout",
     "output_type": "stream",
     "text": [
      "Positive number\n"
     ]
    }
   ],
   "source": [
    "# checking if the number is positive or negative.\n",
    "num=float(input('Enter a number:'))\n",
    "if num>=0:\n",
    "  if num==0:\n",
    "    print('Zero')\n",
    "  else:\n",
    "    print('Positive number')\n",
    "else:\n",
    "  print('Negative number')\n",
    "\n"
   ]
  },
  {
   "cell_type": "code",
   "execution_count": null,
   "metadata": {},
   "outputs": [
    {
     "name": "stdout",
     "output_type": "stream",
     "text": [
      "sucess\n"
     ]
    }
   ],
   "source": [
    "# checking if element in list index 0 > 1\n",
    "\n",
    "list=[4,3,5,6,7]\n",
    "if list[0]>list[1]:\n",
    "  print('sucess')\n",
    "else:\n",
    "  print('hello')"
   ]
  },
  {
   "cell_type": "code",
   "execution_count": null,
   "metadata": {},
   "outputs": [
    {
     "name": "stdout",
     "output_type": "stream",
     "text": [
      "1\n",
      "2\n",
      "3\n",
      "4\n",
      "5\n"
     ]
    }
   ],
   "source": [
    "# while loop.\n",
    "i=1\n",
    "while i<6:\n",
    "  print(i)\n",
    "  i+=1\n",
    "  "
   ]
  },
  {
   "cell_type": "code",
   "execution_count": null,
   "metadata": {},
   "outputs": [
    {
     "name": "stdout",
     "output_type": "stream",
     "text": [
      "1\n",
      "2\n",
      "3\n"
     ]
    }
   ],
   "source": [
    "#  Adding the break statemnet.\n",
    "\n",
    "i=1\n",
    "while i<6:\n",
    "  print(i)\n",
    "  if i==3:\n",
    "    break\n",
    "  i+=1"
   ]
  },
  {
   "cell_type": "code",
   "execution_count": 2,
   "metadata": {},
   "outputs": [
    {
     "name": "stdout",
     "output_type": "stream",
     "text": [
      "1\n",
      "2\n",
      "3\n",
      "4\n",
      "5\n",
      "i is no longer less than 6\n"
     ]
    }
   ],
   "source": [
    "# Statement\n",
    "\n",
    "i=1\n",
    "while i<6:\n",
    "  print(i)\n",
    "  i+=1\n",
    "else:\n",
    "  print('i is no longer less than 6')"
   ]
  }
 ],
 "metadata": {
  "kernelspec": {
   "display_name": "Python 3",
   "language": "python",
   "name": "python3"
  },
  "language_info": {
   "codemirror_mode": {
    "name": "ipython",
    "version": 3
   },
   "file_extension": ".py",
   "mimetype": "text/x-python",
   "name": "python",
   "nbconvert_exporter": "python",
   "pygments_lexer": "ipython3",
   "version": "3.13.2"
  }
 },
 "nbformat": 4,
 "nbformat_minor": 2
}
